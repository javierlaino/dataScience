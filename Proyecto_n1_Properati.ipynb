{
 "cells": [
  {
   "cell_type": "markdown",
   "metadata": {},
   "source": [
    "# Proyecto: Análisis mercado inmobiliario de la Ciudad de Buenos Aires"
   ]
  },
  {
   "cell_type": "markdown",
   "metadata": {},
   "source": [
    "¡Bienvenidos al primer proyecto de la carrera de Data Science de Acamica! \n",
    "\n",
    "En este proyecto vamos a trabajar con un dataset de propiedades en venta publicadas en el portal [Properati](www.properati.com.ar). El objetivo es dar los primeros pasos en el proceso de exploración de datos usando las herramientas que trabajamos en las activades.\n",
    "\n",
    "Vamos a enfocarnos en analizar algunos aspectos del mercado inmobiliario de la Ciudad de Buenos Aires pero para eso primero debemos limpiar un poco el dataset."
   ]
  },
  {
   "cell_type": "markdown",
   "metadata": {},
   "source": [
    "## El dataset: propiedades en venta en Ciudad de Buenos Aires."
   ]
  },
  {
   "cell_type": "markdown",
   "metadata": {},
   "source": [
    "En este proyecto, trabajaremos con una muestra del conjunto de datos de propiedades en venta mencionado. En este dataset, cada fila es una propiedad en venta. \n",
    "\n",
    "## Los atributos\n",
    "A continuación vamos a describir los atributos que consideramos en esta muestra:\n",
    "\n",
    "* **id**: id de la propiedad\n",
    "* **created_on**: fecha en la que la propiedad ingresó al sitio\n",
    "* **operation**: alquiler (rent) o venta (sell)\n",
    "* **property_type**: tipo de propiedad (casa, departamento, ph, etcétera)\n",
    "* **place_with_parent_names**: nombre del lugar donde se encuentra la propiedad según el publicador\n",
    "* **lat-lon**: coordenadas concatenadas\n",
    "* **lat**: latitud\n",
    "* **lon**: longitud\n",
    "* **price**: precio en la moneda especificada en currency\n",
    "* **currency**: divisa en la que está expresada la publicación\n",
    "* **price_aprox_usd**: precio aproximado en dólares estadounidenses\n",
    "* **surface_total_in_m2**: superficie total (en metros cuadrados)\n",
    "* **surface_covered_in_m2**: superficie cubierta (en metros cuadrados)\n",
    "* **price_usd_per_m2**: precio por metro cuadrado en dólares (precio dólares / superficie)\n",
    "* **floor**: número de piso (si corresponde)\n",
    "* **rooms**: cantidad de ambientes\n",
    "* **expenses**: expensas (si corresponde)\n",
    "* **barrio**: barrio según cartografía oficial\n",
    "* **properati_url**: url de la publicación en Properati\n"
   ]
  },
  {
   "cell_type": "markdown",
   "metadata": {},
   "source": [
    "## Importando las bibliotecas necesarias\n",
    "\n",
    "Para poder trabajar en la limpieza de datos y la visualización de nuestro dataset vamos a utilizar las bibliotecas numpy, pandas, matplotlib.pylab y seaborn. \n",
    "\n",
    "** 1) Importá ** cada una de ellas con los siguientes nombres: \n",
    "- **numpy** como **np**\n",
    "- **pandas** como **pd**\n",
    "- **matplotlib.pylab** como **plt**\n",
    "- **seaborn** como **sns**\n"
   ]
  },
  {
   "cell_type": "code",
   "execution_count": 2,
   "metadata": {},
   "outputs": [],
   "source": [
    "# Importar bibliotecas en esta celda\n",
    "import numpy as np\n",
    "import pandas as pd\n",
    "import matplotlib.pylab as plt\n",
    "import seaborn as sns"
   ]
  },
  {
   "cell_type": "code",
   "execution_count": 3,
   "metadata": {},
   "outputs": [],
   "source": [
    "# La siguiente línea es para ver las imagenes dentro del notebook\n",
    "%matplotlib inline\n",
    "# Acá configuramos el tamaño de las figuras\n",
    "plt.rcParams['figure.figsize'] = (12,8)\n",
    "# Seteamos opciones de pandas sobre las columnas y su ancho\n",
    "pd.set_option('max_columns', 120)\n",
    "pd.set_option('max_colwidth', 5000)\n"
   ]
  },
  {
   "cell_type": "markdown",
   "metadata": {},
   "source": [
    "## Cargando dataset de propiedades\n",
    "\n",
    "**2) Cargá** el dataset que se encuentra en la carpeta *dataset/* y guardalo en una variable llamada **df**. \n",
    "No te olvides de utilizar **parse_dates** sobre la columna **created_on**\n"
   ]
  },
  {
   "cell_type": "code",
   "execution_count": 5,
   "metadata": {},
   "outputs": [
    {
     "name": "stdout",
     "output_type": "stream",
     "text": [
      "created_on                 datetime64[ns]\n",
      "operation                          object\n",
      "property_type                      object\n",
      "place_with_parent_names            object\n",
      "lat-lon                            object\n",
      "lat                               float64\n",
      "lon                               float64\n",
      "price_aprox_usd                   float64\n",
      "surface_total_in_m2               float64\n",
      "surface_covered_in_m2             float64\n",
      "price_usd_per_m2                  float64\n",
      "floor                             float64\n",
      "rooms                             float64\n",
      "expenses                          float64\n",
      "properati_url                      object\n",
      "barrio                             object\n",
      "comuna                            float64\n",
      "dtype: object\n"
     ]
    }
   ],
   "source": [
    "# cargá el dataset en esta celda\n",
    "df = pd.read_csv('dataset/datos_properati.csv', parse_dates=['created_on'])\n",
    "#df = pd.read_csv('https://github.com/nelson-pedernera/Acamica/blob/master/Dataset/datos_properati.csv?raw=true', parse_dates=['created_on'])\n",
    "print(df.dtypes)"
   ]
  },
  {
   "cell_type": "markdown",
   "metadata": {},
   "source": [
    "## Exploración de datos"
   ]
  },
  {
   "cell_type": "markdown",
   "metadata": {},
   "source": [
    "Lo primero que vamos a hacer es ver qué forma tiene el dataset que acabamos de cargar. Para eso vamos a mostrar las primeras 3 entradas del mismo y utilizar la propiedad `shape` para ver la cantidad de instancias y atributos con los que vamos a estar trabajando."
   ]
  },
  {
   "cell_type": "code",
   "execution_count": 4,
   "metadata": {},
   "outputs": [
    {
     "name": "stdout",
     "output_type": "stream",
     "text": [
      "(18979, 17)\n"
     ]
    },
    {
     "data": {
      "text/html": [
       "<div>\n",
       "<style scoped>\n",
       "    .dataframe tbody tr th:only-of-type {\n",
       "        vertical-align: middle;\n",
       "    }\n",
       "\n",
       "    .dataframe tbody tr th {\n",
       "        vertical-align: top;\n",
       "    }\n",
       "\n",
       "    .dataframe thead th {\n",
       "        text-align: right;\n",
       "    }\n",
       "</style>\n",
       "<table border=\"1\" class=\"dataframe\">\n",
       "  <thead>\n",
       "    <tr style=\"text-align: right;\">\n",
       "      <th></th>\n",
       "      <th>created_on</th>\n",
       "      <th>operation</th>\n",
       "      <th>property_type</th>\n",
       "      <th>place_with_parent_names</th>\n",
       "      <th>lat-lon</th>\n",
       "      <th>lat</th>\n",
       "      <th>lon</th>\n",
       "      <th>price_aprox_usd</th>\n",
       "      <th>surface_total_in_m2</th>\n",
       "      <th>surface_covered_in_m2</th>\n",
       "      <th>price_usd_per_m2</th>\n",
       "      <th>floor</th>\n",
       "      <th>rooms</th>\n",
       "      <th>expenses</th>\n",
       "      <th>properati_url</th>\n",
       "      <th>barrio</th>\n",
       "      <th>comuna</th>\n",
       "    </tr>\n",
       "  </thead>\n",
       "  <tbody>\n",
       "    <tr>\n",
       "      <th>0</th>\n",
       "      <td>2017-09-22</td>\n",
       "      <td>sell</td>\n",
       "      <td>house</td>\n",
       "      <td>|Argentina|Capital Federal|Palermo|Palermo Viejo|</td>\n",
       "      <td>-34.5889531469,-58.4298817776</td>\n",
       "      <td>-34.588953</td>\n",
       "      <td>-58.429882</td>\n",
       "      <td>2000000.0</td>\n",
       "      <td>312.0</td>\n",
       "      <td>NaN</td>\n",
       "      <td>6410.25641</td>\n",
       "      <td>NaN</td>\n",
       "      <td>NaN</td>\n",
       "      <td>NaN</td>\n",
       "      <td>https://www.properati.com.ar/2os_venta_casa_palermo-viejo_rent-ba</td>\n",
       "      <td>PALERMO</td>\n",
       "      <td>14.0</td>\n",
       "    </tr>\n",
       "    <tr>\n",
       "      <th>1</th>\n",
       "      <td>2017-08-01</td>\n",
       "      <td>sell</td>\n",
       "      <td>store</td>\n",
       "      <td>|Argentina|Capital Federal|Palermo|</td>\n",
       "      <td>-34.586069,-58.414431</td>\n",
       "      <td>-34.586069</td>\n",
       "      <td>-58.414431</td>\n",
       "      <td>790000.0</td>\n",
       "      <td>121.0</td>\n",
       "      <td>121.0</td>\n",
       "      <td>6528.92562</td>\n",
       "      <td>NaN</td>\n",
       "      <td>NaN</td>\n",
       "      <td>NaN</td>\n",
       "      <td>https://www.properati.com.ar/1cl7l_venta_local_palermo_santa-fe-av-al-3500_sotano_garage_subte-linea-d_deptos-temporarios</td>\n",
       "      <td>PALERMO</td>\n",
       "      <td>14.0</td>\n",
       "    </tr>\n",
       "    <tr>\n",
       "      <th>2</th>\n",
       "      <td>2017-08-02</td>\n",
       "      <td>sell</td>\n",
       "      <td>store</td>\n",
       "      <td>|Argentina|Capital Federal|Palermo|Palermo Soho|</td>\n",
       "      <td>-34.589723,-58.4325664</td>\n",
       "      <td>-34.589723</td>\n",
       "      <td>-58.432566</td>\n",
       "      <td>343000.0</td>\n",
       "      <td>122.0</td>\n",
       "      <td>108.0</td>\n",
       "      <td>2811.47541</td>\n",
       "      <td>NaN</td>\n",
       "      <td>2.0</td>\n",
       "      <td>NaN</td>\n",
       "      <td>https://www.properati.com.ar/1cm8w_venta_local_palermo-soho_cabrera-jose-a-_5000_jardin_lavadero_patio_piscina_toilette_garage_ojo-propiedades</td>\n",
       "      <td>PALERMO</td>\n",
       "      <td>14.0</td>\n",
       "    </tr>\n",
       "  </tbody>\n",
       "</table>\n",
       "</div>"
      ],
      "text/plain": [
       "  created_on operation property_type  \\\n",
       "0 2017-09-22      sell         house   \n",
       "1 2017-08-01      sell         store   \n",
       "2 2017-08-02      sell         store   \n",
       "\n",
       "                             place_with_parent_names  \\\n",
       "0  |Argentina|Capital Federal|Palermo|Palermo Viejo|   \n",
       "1                |Argentina|Capital Federal|Palermo|   \n",
       "2   |Argentina|Capital Federal|Palermo|Palermo Soho|   \n",
       "\n",
       "                         lat-lon        lat        lon  price_aprox_usd  \\\n",
       "0  -34.5889531469,-58.4298817776 -34.588953 -58.429882        2000000.0   \n",
       "1          -34.586069,-58.414431 -34.586069 -58.414431         790000.0   \n",
       "2         -34.589723,-58.4325664 -34.589723 -58.432566         343000.0   \n",
       "\n",
       "   surface_total_in_m2  surface_covered_in_m2  price_usd_per_m2  floor  rooms  \\\n",
       "0                312.0                    NaN        6410.25641    NaN    NaN   \n",
       "1                121.0                  121.0        6528.92562    NaN    NaN   \n",
       "2                122.0                  108.0        2811.47541    NaN    2.0   \n",
       "\n",
       "   expenses  \\\n",
       "0       NaN   \n",
       "1       NaN   \n",
       "2       NaN   \n",
       "\n",
       "                                                                                                                                    properati_url  \\\n",
       "0                                                                               https://www.properati.com.ar/2os_venta_casa_palermo-viejo_rent-ba   \n",
       "1                       https://www.properati.com.ar/1cl7l_venta_local_palermo_santa-fe-av-al-3500_sotano_garage_subte-linea-d_deptos-temporarios   \n",
       "2  https://www.properati.com.ar/1cm8w_venta_local_palermo-soho_cabrera-jose-a-_5000_jardin_lavadero_patio_piscina_toilette_garage_ojo-propiedades   \n",
       "\n",
       "    barrio  comuna  \n",
       "0  PALERMO    14.0  \n",
       "1  PALERMO    14.0  \n",
       "2  PALERMO    14.0  "
      ]
     },
     "execution_count": 4,
     "metadata": {},
     "output_type": "execute_result"
    }
   ],
   "source": [
    "print(df.shape)\n",
    "df.head(3)"
   ]
  },
  {
   "cell_type": "markdown",
   "metadata": {},
   "source": [
    "## Categorías de propiedades\n",
    "En primer lugar vamos a ver qué categorías existen en el campo `property_type`. Y de esas categorías cuantos valores tenemos de cada uno.\n",
    "\n",
    "**3) Mostrá** las categorías de `property_type` y cuántas instancias hay de cada una.\n",
    "\n",
    "Recordá utilizar funciones del **dataframe** de pandas para realizar esto."
   ]
  },
  {
   "cell_type": "code",
   "execution_count": 5,
   "metadata": {},
   "outputs": [
    {
     "name": "stdout",
     "output_type": "stream",
     "text": [
      "Categorias:\n",
      " ['house' 'store' 'apartment' 'PH']\n",
      "\n",
      "Instancias por categoria:\n",
      "house : 1618\n",
      "store : 1091\n",
      "apartment : 14807\n",
      "PH : 1463\n"
     ]
    }
   ],
   "source": [
    "# mostrá las categorías del campo property_type y mostrá la cant. de valores en esta celda\n",
    "cat = df.property_type.unique()\n",
    "print('Categorias:\\n', cat)\n",
    "\n",
    "print('\\nInstancias por categoria:')\n",
    "for cats in cat:\n",
    "    print (cats,':',df.loc[df[\"property_type\"]==cats].shape[0])"
   ]
  },
  {
   "cell_type": "markdown",
   "metadata": {},
   "source": [
    "### Filtrando las categorías\n",
    "\n",
    "De las categorías existentes sólo queremos quedarnos con las que sean casas (house), departamentos (apartment) o PH (PH). \n",
    "\n",
    "Para esto, \n",
    "\n",
    "**4) filtrá** el `dataframe` original creando un **nuevo** `dataframe` llamado `df_filtered`. Este es el `dataframe` que seguirás usando a lo largo del análisis.\n"
   ]
  },
  {
   "cell_type": "code",
   "execution_count": 5,
   "metadata": {},
   "outputs": [
    {
     "name": "stdout",
     "output_type": "stream",
     "text": [
      "      created_on operation property_type  \\\n",
      "0     2017-09-22      sell         house   \n",
      "18    2017-08-29      sell     apartment   \n",
      "19    2017-08-29      sell     apartment   \n",
      "20    2017-08-29      sell     apartment   \n",
      "22    2017-08-30      sell         house   \n",
      "24    2017-08-30      sell     apartment   \n",
      "25    2017-08-30      sell            PH   \n",
      "26    2017-08-30      sell     apartment   \n",
      "27    2017-08-30      sell         house   \n",
      "28    2017-08-30      sell         house   \n",
      "29    2017-08-30      sell     apartment   \n",
      "30    2017-08-30      sell     apartment   \n",
      "31    2017-08-30      sell     apartment   \n",
      "32    2017-08-31      sell     apartment   \n",
      "33    2017-08-31      sell     apartment   \n",
      "34    2017-08-31      sell         house   \n",
      "35    2017-08-31      sell     apartment   \n",
      "36    2017-08-31      sell     apartment   \n",
      "37    2017-08-31      sell     apartment   \n",
      "38    2017-08-31      sell     apartment   \n",
      "39    2017-08-31      sell     apartment   \n",
      "40    2017-09-01      sell     apartment   \n",
      "41    2017-09-01      sell         house   \n",
      "42    2017-09-01      sell     apartment   \n",
      "43    2017-09-01      sell     apartment   \n",
      "44    2017-09-01      sell     apartment   \n",
      "45    2017-09-01      sell     apartment   \n",
      "46    2017-09-02      sell     apartment   \n",
      "47    2017-09-02      sell     apartment   \n",
      "48    2017-09-02      sell     apartment   \n",
      "...          ...       ...           ...   \n",
      "18947 2018-01-21      sell         house   \n",
      "18948 2018-01-22      sell     apartment   \n",
      "18949 2018-01-26      sell     apartment   \n",
      "18950 2018-01-26      sell            PH   \n",
      "18952 2018-01-26      sell         house   \n",
      "18953 2018-01-26      sell            PH   \n",
      "18954 2018-01-26      sell            PH   \n",
      "18955 2018-01-26      sell     apartment   \n",
      "18956 2018-01-26      sell     apartment   \n",
      "18957 2018-01-27      sell            PH   \n",
      "18958 2018-01-28      sell     apartment   \n",
      "18959 2018-01-29      sell            PH   \n",
      "18960 2018-01-31      sell     apartment   \n",
      "18961 2018-01-31      sell         house   \n",
      "18962 2018-01-31      sell            PH   \n",
      "18963 2017-09-22      sell     apartment   \n",
      "18964 2017-09-30      sell     apartment   \n",
      "18965 2017-10-17      sell         house   \n",
      "18966 2017-10-17      sell         house   \n",
      "18967 2017-10-17      sell            PH   \n",
      "18968 2017-10-21      sell     apartment   \n",
      "18969 2017-10-21      sell         house   \n",
      "18970 2017-10-29      sell     apartment   \n",
      "18971 2017-10-29      sell     apartment   \n",
      "18972 2017-11-23      sell     apartment   \n",
      "18973 2017-12-17      sell     apartment   \n",
      "18974 2018-01-08      sell     apartment   \n",
      "18975 2018-01-23      sell         house   \n",
      "18977 2018-01-27      sell     apartment   \n",
      "18978 2018-01-27      sell     apartment   \n",
      "\n",
      "                                     place_with_parent_names  \\\n",
      "0          |Argentina|Capital Federal|Palermo|Palermo Viejo|   \n",
      "18                       |Argentina|Capital Federal|Palermo|   \n",
      "19                       |Argentina|Capital Federal|Palermo|   \n",
      "20                       |Argentina|Capital Federal|Palermo|   \n",
      "22     |Argentina|Capital Federal|Palermo|Palermo Hollywood|   \n",
      "24     |Argentina|Capital Federal|Palermo|Palermo Hollywood|   \n",
      "25          |Argentina|Capital Federal|Palermo|Palermo Soho|   \n",
      "26                       |Argentina|Capital Federal|Palermo|   \n",
      "27     |Argentina|Capital Federal|Palermo|Palermo Hollywood|   \n",
      "28                       |Argentina|Capital Federal|Palermo|   \n",
      "29                       |Argentina|Capital Federal|Palermo|   \n",
      "30                       |Argentina|Capital Federal|Palermo|   \n",
      "31                       |Argentina|Capital Federal|Palermo|   \n",
      "32                       |Argentina|Capital Federal|Palermo|   \n",
      "33                       |Argentina|Capital Federal|Palermo|   \n",
      "34         |Argentina|Capital Federal|Palermo|Palermo Chico|   \n",
      "35     |Argentina|Capital Federal|Palermo|Palermo Hollywood|   \n",
      "36                       |Argentina|Capital Federal|Palermo|   \n",
      "37                       |Argentina|Capital Federal|Palermo|   \n",
      "38                       |Argentina|Capital Federal|Palermo|   \n",
      "39                       |Argentina|Capital Federal|Palermo|   \n",
      "40                  |Argentina|Capital Federal|Barrio Norte|   \n",
      "41         |Argentina|Capital Federal|Palermo|Palermo Chico|   \n",
      "42                         |Argentina|Capital Federal|Nuñez|   \n",
      "43                      |Argentina|Capital Federal|Belgrano|   \n",
      "44                       |Argentina|Capital Federal|Palermo|   \n",
      "45                      |Argentina|Capital Federal|Belgrano|   \n",
      "46                   |Argentina|Capital Federal|Las Cañitas|   \n",
      "47                   |Argentina|Capital Federal|Las Cañitas|   \n",
      "48         |Argentina|Capital Federal|Palermo|Palermo Chico|   \n",
      "...                                                      ...   \n",
      "18947           |Argentina|Capital Federal|Villa Santa Rita|   \n",
      "18948               |Argentina|Capital Federal|Villa Devoto|   \n",
      "18949           |Argentina|Capital Federal|Villa Pueyrredón|   \n",
      "18950           |Argentina|Capital Federal|Villa Pueyrredón|   \n",
      "18952                   |Argentina|Capital Federal|Belgrano|   \n",
      "18953           |Argentina|Capital Federal|Villa Pueyrredón|   \n",
      "18954           |Argentina|Capital Federal|Villa Pueyrredón|   \n",
      "18955              |Argentina|Capital Federal|Villa Urquiza|   \n",
      "18956                  |Argentina|Capital Federal|Agronomía|   \n",
      "18957           |Argentina|Capital Federal|Villa Pueyrredón|   \n",
      "18958           |Argentina|Capital Federal|Villa Pueyrredón|   \n",
      "18959           |Argentina|Capital Federal|Villa Pueyrredón|   \n",
      "18960           |Argentina|Capital Federal|Villa Pueyrredón|   \n",
      "18961           |Argentina|Capital Federal|Villa Pueyrredón|   \n",
      "18962           |Argentina|Capital Federal|Villa Pueyrredón|   \n",
      "18963               |Argentina|Capital Federal|Villa Lugano|   \n",
      "18964               |Argentina|Capital Federal|Villa Lugano|   \n",
      "18965              |Argentina|Capital Federal|Villa Soldati|   \n",
      "18966               |Argentina|Bs.As. G.B.A. Zona Sur|Lanús|   \n",
      "18967              |Argentina|Capital Federal|Villa Soldati|   \n",
      "18968              |Argentina|Capital Federal|Villa Soldati|   \n",
      "18969               |Argentina|Capital Federal|Villa Lugano|   \n",
      "18970              |Argentina|Capital Federal|Villa Soldati|   \n",
      "18971              |Argentina|Capital Federal|Villa Soldati|   \n",
      "18972              |Argentina|Capital Federal|Villa Soldati|   \n",
      "18973              |Argentina|Capital Federal|Villa Soldati|   \n",
      "18974              |Argentina|Capital Federal|Villa Soldati|   \n",
      "18975              |Argentina|Capital Federal|Villa Soldati|   \n",
      "18977              |Argentina|Capital Federal|Villa Soldati|   \n",
      "18978               |Argentina|Capital Federal|Villa Lugano|   \n",
      "\n",
      "                             lat-lon        lat        lon  price_aprox_usd  \\\n",
      "0      -34.5889531469,-58.4298817776 -34.588953 -58.429882       2000000.00   \n",
      "18      -34.588912403,-58.4134942185 -34.588912 -58.413494        340000.00   \n",
      "19           -34.5770327,-58.4233675 -34.577033 -58.423368        222000.00   \n",
      "20           -34.5950139,-58.4273915 -34.595014 -58.427392        180000.00   \n",
      "22           -34.5793535,-58.4364489 -34.579354 -58.436449       1200000.00   \n",
      "24           -34.5809281,-58.4404321 -34.580928 -58.440432        270000.00   \n",
      "25            -34.5897765,-58.428558 -34.589776 -58.428558        219000.00   \n",
      "26           -34.5807098,-58.3981425 -34.580710 -58.398143              NaN   \n",
      "27           -34.5842942,-58.4364688 -34.584294 -58.436469              NaN   \n",
      "28           -34.5711496,-58.4232966 -34.571150 -58.423297              NaN   \n",
      "29            -34.594251,-58.4166447 -34.594251 -58.416645        250000.00   \n",
      "30           -34.5711496,-58.4232966 -34.571150 -58.423297        490000.00   \n",
      "31           -34.5711496,-58.4232966 -34.571150 -58.423297        119124.77   \n",
      "32           -34.5722218,-58.4211164 -34.572222 -58.421116       2600000.00   \n",
      "33           -34.5684721,-58.4312493 -34.568472 -58.431249        520000.00   \n",
      "34     -34.5780733419,-58.4055800042 -34.578073 -58.405580       1975000.00   \n",
      "35           -34.5825677,-58.4329982 -34.582568 -58.432998        198000.00   \n",
      "36            -34.5893559,-58.416935 -34.589356 -58.416935        170000.00   \n",
      "37             -34.570648,-58.433619 -34.570648 -58.433619        159800.00   \n",
      "38             -34.570648,-58.433619 -34.570648 -58.433619        144400.00   \n",
      "39             -34.570648,-58.433619 -34.570648 -58.433619        169000.00   \n",
      "40         -34.57548904,-58.41962433 -34.575489 -58.419624        510000.00   \n",
      "41           -34.5782697,-58.3993206 -34.578270 -58.399321       1750000.00   \n",
      "42     -34.5672629609,-58.4318401926 -34.567263 -58.431840        640000.00   \n",
      "43           -34.5670278,-58.4353992 -34.567028 -58.435399        590000.00   \n",
      "44      -34.5914774208,-58.418185265 -34.591477 -58.418185         90000.00   \n",
      "45     -34.5627850286,-58.4409361513 -34.562785 -58.440936        470000.00   \n",
      "46           -34.5708701,-58.4331449 -34.570870 -58.433145        440000.00   \n",
      "47           -34.5708701,-58.4331449 -34.570870 -58.433145        550000.00   \n",
      "48           -34.5821848,-58.4015403 -34.582185 -58.401540       1050000.00   \n",
      "...                              ...        ...        ...              ...   \n",
      "18947          -34.585041,-58.492687 -34.585041 -58.492687              NaN   \n",
      "18948        -34.5876068,-58.5053405 -34.587607 -58.505341         92500.00   \n",
      "18949          -34.574804,-58.511286 -34.574804 -58.511286        115000.00   \n",
      "18950          -34.582382,-58.493928 -34.582382 -58.493928        120000.00   \n",
      "18952         -34.577302,-58.5084239 -34.577302 -58.508424        158840.00   \n",
      "18953        -34.5814759,-58.5055408 -34.581476 -58.505541        187000.00   \n",
      "18954        -34.5844982,-58.5058017 -34.584498 -58.505802        145000.00   \n",
      "18955  -34.5869610349,-58.4991220286 -34.586961 -58.499122        145000.00   \n",
      "18956  -34.5857925673,-58.4991678032 -34.585793 -58.499168        145000.00   \n",
      "18957  -34.5916666575,-58.5017040921 -34.591667 -58.501704        291000.00   \n",
      "18958         -34.576294,-58.5059185 -34.576294 -58.505919        110000.00   \n",
      "18959            -34.5848,-58.490567 -34.584800 -58.490567        289900.00   \n",
      "18960          -34.582448,-58.507942 -34.582448 -58.507942        115000.00   \n",
      "18961        -34.5829089,-58.4928668 -34.582909 -58.492867        448000.00   \n",
      "18962        -34.5861739,-58.5063677 -34.586174 -58.506368        148500.00   \n",
      "18963          -34.662435,-58.466795 -34.662435 -58.466795         88000.00   \n",
      "18964        -34.6650164,-58.4431386 -34.665016 -58.443139         50000.00   \n",
      "18965        -34.6579271,-58.4327115 -34.657927 -58.432712        105000.00   \n",
      "18966        -34.6651916,-58.4393973 -34.665192 -58.439397         90000.00   \n",
      "18967        -34.6601955,-58.4489907 -34.660196 -58.448991        124000.00   \n",
      "18968          -34.6633106,-58.43915 -34.663311 -58.439150         90000.00   \n",
      "18969        -34.6640573,-58.4443398 -34.664057 -58.444340        115000.00   \n",
      "18970          -34.669288,-58.443725 -34.669288 -58.443725         50000.00   \n",
      "18971          -34.669535,-58.444304 -34.669535 -58.444304         49900.00   \n",
      "18972  -34.6660551661,-58.4419339087 -34.666055 -58.441934         50000.00   \n",
      "18973           -34.66897,-58.443897 -34.668970 -58.443897         49000.00   \n",
      "18974          -34.668741,-58.443146 -34.668741 -58.443146         60000.00   \n",
      "18975           -34.66417,-58.443317 -34.664170 -58.443317         99000.00   \n",
      "18977          -34.665005,-58.443041 -34.665005 -58.443041         50433.01   \n",
      "18978          -34.664283,-58.469604 -34.664283 -58.469604         75000.00   \n",
      "\n",
      "       surface_total_in_m2  surface_covered_in_m2  price_usd_per_m2  floor  \\\n",
      "0                    312.0                    NaN       6410.256410    NaN   \n",
      "18                   130.0                  120.0       2615.384615    NaN   \n",
      "19                    52.0                   48.0       4269.230769    NaN   \n",
      "20                    70.0                   70.0       2571.428571    NaN   \n",
      "22                   532.0                  334.0       2255.639098    NaN   \n",
      "24                    67.0                   64.0       4029.850746    NaN   \n",
      "25                    72.0                    NaN       3041.666667    NaN   \n",
      "26                   238.0                  238.0               NaN    NaN   \n",
      "27                   475.0                  400.0               NaN    NaN   \n",
      "28                   475.0                  400.0               NaN    NaN   \n",
      "29                    67.0                   60.0       3731.343284    NaN   \n",
      "30                   100.0                   95.0       4900.000000    NaN   \n",
      "31                    40.0                   36.0       2978.119250    NaN   \n",
      "32                   400.0                  400.0       6500.000000    NaN   \n",
      "33                    97.0                   97.0       5360.824742    NaN   \n",
      "34                   460.0                  400.0       4293.478261    NaN   \n",
      "35                    64.0                   48.0       3093.750000    NaN   \n",
      "36                    40.0                   38.0       4250.000000    NaN   \n",
      "37                    47.0                   47.0       3400.000000    2.0   \n",
      "38                    38.0                   38.0       3800.000000    2.0   \n",
      "39                    52.0                   47.0       3250.000000    2.0   \n",
      "40                   239.0                  127.0       2133.891213    NaN   \n",
      "41                   300.0                    NaN       5833.333333    NaN   \n",
      "42                   200.0                  185.0       3200.000000    NaN   \n",
      "43                   168.0                  157.0       3511.904762    NaN   \n",
      "44                    27.0                   27.0       3333.333333    NaN   \n",
      "45                   103.0                  103.0       4563.106796    NaN   \n",
      "46                    80.0                   76.0       5500.000000    NaN   \n",
      "47                    98.0                   95.0       5612.244898    NaN   \n",
      "48                   243.0                  227.0       4320.987654    NaN   \n",
      "...                    ...                    ...               ...    ...   \n",
      "18947                  NaN                    NaN               NaN    NaN   \n",
      "18948                 37.0                   37.0       2500.000000    NaN   \n",
      "18949                 62.0                   56.0       1854.838710    3.0   \n",
      "18950                130.0                   65.0        923.076923    NaN   \n",
      "18952                102.0                   72.0       1557.254902    NaN   \n",
      "18953                 98.0                   90.0       1908.163265    NaN   \n",
      "18954                 50.0                   40.0       2900.000000    NaN   \n",
      "18955                 55.0                   52.0       2636.363636    NaN   \n",
      "18956                 55.0                   52.0       2636.363636    NaN   \n",
      "18957                201.0                   80.0       1447.761194    NaN   \n",
      "18958                  NaN                    NaN               NaN    NaN   \n",
      "18959                180.0                  180.0       1610.555556    NaN   \n",
      "18960                 50.0                   50.0       2300.000000    6.0   \n",
      "18961                260.0                    NaN       1723.076923    NaN   \n",
      "18962                 60.0                    NaN       2475.000000    NaN   \n",
      "18963                 55.0                   55.0       1600.000000    NaN   \n",
      "18964                 70.0                   70.0        714.285714    NaN   \n",
      "18965                  NaN                    NaN               NaN    NaN   \n",
      "18966                  NaN                    NaN               NaN    NaN   \n",
      "18967                160.0                  120.0        775.000000    NaN   \n",
      "18968                  NaN                   60.0               NaN    NaN   \n",
      "18969                120.0                  100.0        958.333333    NaN   \n",
      "18970                 75.0                   75.0        666.666667    NaN   \n",
      "18971                 75.0                   75.0        665.333333    NaN   \n",
      "18972                 72.0                   72.0        694.444444    7.0   \n",
      "18973                 75.0                   75.0        653.333333    NaN   \n",
      "18974                 55.0                   55.0       1090.909091    NaN   \n",
      "18975                115.0                   82.0        860.869565    NaN   \n",
      "18977                 45.0                   45.0       1120.733556    NaN   \n",
      "18978                 60.0                   58.0       1250.000000    9.0   \n",
      "\n",
      "       rooms  expenses  \\\n",
      "0        NaN       NaN   \n",
      "18       4.0    8000.0   \n",
      "19       1.0       NaN   \n",
      "20       NaN    3000.0   \n",
      "22       6.0       NaN   \n",
      "24       3.0    3900.0   \n",
      "25       3.0       NaN   \n",
      "26       5.0       NaN   \n",
      "27       NaN       NaN   \n",
      "28       NaN       NaN   \n",
      "29       2.0       NaN   \n",
      "30       4.0       NaN   \n",
      "31       1.0       NaN   \n",
      "32       5.0   20000.0   \n",
      "33       3.0   10000.0   \n",
      "34       6.0       NaN   \n",
      "35       2.0       NaN   \n",
      "36       1.0       NaN   \n",
      "37       1.0       NaN   \n",
      "38       1.0       NaN   \n",
      "39       1.0       NaN   \n",
      "40       2.0       NaN   \n",
      "41       5.0       NaN   \n",
      "42       4.0   18000.0   \n",
      "43       4.0   20000.0   \n",
      "44       1.0    1140.0   \n",
      "45       4.0   10000.0   \n",
      "46       3.0       NaN   \n",
      "47       4.0       NaN   \n",
      "48       7.0       NaN   \n",
      "...      ...       ...   \n",
      "18947    NaN       NaN   \n",
      "18948    2.0    1990.0   \n",
      "18949    3.0       NaN   \n",
      "18950    3.0       NaN   \n",
      "18952    NaN       NaN   \n",
      "18953    3.0       NaN   \n",
      "18954    2.0       NaN   \n",
      "18955    3.0       NaN   \n",
      "18956    3.0       NaN   \n",
      "18957    3.0       NaN   \n",
      "18958    NaN       NaN   \n",
      "18959    4.0       NaN   \n",
      "18960    2.0       NaN   \n",
      "18961    4.0       NaN   \n",
      "18962    2.0       NaN   \n",
      "18963    3.0       NaN   \n",
      "18964    4.0       NaN   \n",
      "18965    NaN       NaN   \n",
      "18966    NaN       NaN   \n",
      "18967    NaN       NaN   \n",
      "18968    NaN       NaN   \n",
      "18969    3.0       NaN   \n",
      "18970    4.0       NaN   \n",
      "18971    4.0       NaN   \n",
      "18972    4.0       NaN   \n",
      "18973    4.0       NaN   \n",
      "18974    3.0       NaN   \n",
      "18975    3.0       NaN   \n",
      "18977    3.0       NaN   \n",
      "18978    3.0       NaN   \n",
      "\n",
      "                                                                                                                                                                                                                      properati_url  \\\n",
      "0                                                                                                                                                                 https://www.properati.com.ar/2os_venta_casa_palermo-viejo_rent-ba   \n",
      "18          https://www.properati.com.ar/1dzv6_venta_departamento_palermo_guemes_3600_balcon_suite_jardin_lavadero_luminoso_lujoso_dependencias_placard_doble-circulacion_subte-linea-d_luisio-propiedades-suc-virrey-del-pino-2378   \n",
      "19                                     https://www.properati.com.ar/1e05k_venta_departamento_palermo_juncal-al-4500_gimnasio_jardin_lavadero_parrilla_piscina_sum_aire-acondicionado_subte-linea-h_subte-linea-c_deptos-temporarios   \n",
      "20                                                                                               https://www.properati.com.ar/1e0mq_venta_departamento_palermo_julian-alvarez-al-1200_lavadero_amoblado_sanchez-carrizo-real-estate   \n",
      "22                                                                                               https://www.properati.com.ar/1e1ve_venta_casa_palermo-hollywood_jardin_lavadero_piscina_luminoso_vista_garage_nexo-propiedades_h0z   \n",
      "24                                                                              https://www.properati.com.ar/1e1x0_venta_departamento_palermo-hollywood_arevalo_1700_balcon_toilette_luminoso_apto-credito-hipotecario_yankel-group   \n",
      "25                                                                                                                            https://www.properati.com.ar/1e1xj_venta_ph_palermo-soho_honduras_4800_patio_luminoso_ojo-propiedades   \n",
      "26                                                                     https://www.properati.com.ar/1e2js_venta_departamento_palermo_baulera_suite_luminoso_dependencias_garage_amenities_subte-linea-h_abp-consultora-inmobiliaria   \n",
      "27     https://www.properati.com.ar/1e2l8_venta_casa_palermo-hollywood_balcon_suite_gimnasio_hidromasaje_jardin_lavadero_parrilla_patio_quincho_terraza_vestidor_luminoso_sauna_garage_aire-acondicionado_quicksale-propiedades_e0i   \n",
      "28               https://www.properati.com.ar/1e2ll_venta_casa_palermo_balcon_suite_gimnasio_hidromasaje_jardin_lavadero_parrilla_patio_quincho_terraza_vestidor_luminoso_sauna_garage_aire-acondicionado_quicksale-propiedades_e0i   \n",
      "29                                                                  https://www.properati.com.ar/1e2mz_venta_departamento_palermo_balcon_lavadero_parrilla_piscina_aire-acondicionado_apto-credito-hipotecario_ageo-propiedades_dwr   \n",
      "30                               https://www.properati.com.ar/1e2no_venta_departamento_palermo_gimnasio_lavadero_parrilla_patio_piscina_sum_sauna_electrogeno_garage_tenis_amoblado_amenities_apto-credito-hipotecario_cityprop_fz8   \n",
      "31                                                                                                             https://www.properati.com.ar/1e2of_venta_departamento_palermo_jardin_lavadero_parrilla_amenities_aprop-bienes-raices   \n",
      "32                                            https://www.properati.com.ar/1e3ol_venta_departamento_palermo_balcon_suite_lavadero_toilette_vestidor_luminoso_vista_sauna_lujoso_dependencias_garage_placard_covello-propiedades_9ij   \n",
      "33                                        https://www.properati.com.ar/1e3oo_venta_departamento_palermo_baulera_suite_gimnasio_jardin_lavadero_piscina_sum_garage_impecable_aire-acondicionado_losa-radiante_tovado-propiedades_dk1   \n",
      "34                                                   https://www.properati.com.ar/1e403_venta_casa_palermo-chico_castex_3200_suite_jardin_dependencias_electrogeno_garage_impecable_aire-acondicionado_arana-parera-propiedades_h3y   \n",
      "35                                                                              https://www.properati.com.ar/1e4f0_venta_departamento_palermo-hollywood_balcon_terraza_luminoso_amenities_aire-acondicionado_arkis-inmobiliaria_eoh   \n",
      "36                                                                                                             https://www.properati.com.ar/1e4fi_venta_departamento_palermo_balcon_garage_subte-linea-d_bienvende-amelia-claro_ej0   \n",
      "37                                                                                                             https://www.properati.com.ar/1e4tm_venta_departamento_palermo_balcon_luminoso_estrenar_subte-linea-d_re-max-d-bosion   \n",
      "38                                                                                                             https://www.properati.com.ar/1e4tp_venta_departamento_palermo_balcon_luminoso_estrenar_subte-linea-d_re-max-d-bosion   \n",
      "39                                                                                                             https://www.properati.com.ar/1e4tr_venta_departamento_palermo_balcon_luminoso_estrenar_subte-linea-d_re-max-d-bosion   \n",
      "40                                                                    https://www.properati.com.ar/1e66w_venta_departamento_barrio-norte_de-maria_4300_baulera_patio_subte-linea-d_apto-credito-hipotecario_grupo-zeta-inmobiliaria   \n",
      "41                                             https://www.properati.com.ar/1e6c0_venta_casa_palermo-chico_balcon_jardin_lavadero_patio_piscina_quincho_terraza_toilette_vista_dependencias_garage_doble-circulacion_monica-frettes   \n",
      "42                     https://www.properati.com.ar/1e6hy_venta_departamento_nunez_san-benito-de-palermo_1500_balcon_baulera_suite_lavadero_toilette_vestidor_lujoso_dependencias_garage_aire-acondicionado_filippo-propiedades_9im   \n",
      "43        https://www.properati.com.ar/1e6s5_venta_departamento_belgrano_soldado-de-la-independencia_900_balcon_baulera_suite_lavadero_toilette_vestidor_luminoso_lujoso_garage_impecable_aire-acondicionado_shenk-inmobiliaria_gkj   \n",
      "44                                                                                                                            https://www.properati.com.ar/1e6su_venta_departamento_palermo_luminoso_placard_shenk-inmobiliaria_gkj   \n",
      "45     https://www.properati.com.ar/1e7yu_venta_departamento_belgrano_del-libertador-av-_5200_balcon_baulera_suite_hidromasaje_jardin_lavadero_terraza_lujoso_dependencias_electrogeno_garage_losa-radiante_filippo-propiedades_9im   \n",
      "46                                https://www.properati.com.ar/1e9gr_venta_departamento_las-canitas_balcon_baulera_suite_gimnasio_lavadero_parrilla_patio_piscina_quincho_sum_sauna_lujoso_garage_amenities_subte-linea-d_l-e-group   \n",
      "47                                                                                   https://www.properati.com.ar/1e9i0_venta_departamento_las-canitas_gimnasio_patio_piscina_sauna_lujoso_garage_amenities_subte-linea-d_l-e-group   \n",
      "48                                                             https://www.properati.com.ar/1e9ih_venta_departamento_palermo-chico_balcon_lavadero_piscina_toilette_lujoso_dependencias_electrogeno_placard_subte-linea-h_l-e-group   \n",
      "...                                                                                                                                                                                                                             ...   \n",
      "18947                              https://www.properati.com.ar/1k0mu_venta_casa_villa-santa-rita_suite_hidromasaje_jardin_lavadero_patio_quincho_toilette_vestidor_garage_impecable_placard_french-asociados-brokers-inmobiliarios   \n",
      "18948                                                                                                                         https://www.properati.com.ar/1k143_venta_departamento_villa-devoto_lavadero_sf-grupo-inmobiliario_ezs   \n",
      "18949                                                                                                                 https://www.properati.com.ar/1k3zz_venta_departamento_villa-pueyrredon_balcon_luminoso_placard_re-max-avenida   \n",
      "18950                                                                                                 https://www.properati.com.ar/1k401_venta_ph_villa-pueyrredon_suite_lavadero_terraza_toilette_vestidor_luminoso_re-max-avenida   \n",
      "18952                                                                                 https://www.properati.com.ar/1k4jj_venta_casa_velez-sarsfield_balcon_suite_terraza_toilette_garage_aire-acondicionado_century-21-republicador   \n",
      "18953                                                                                      https://www.properati.com.ar/1k4n1_venta_ph_villa-pueyrredon_lavadero_patio_terraza_garage_apto-credito-hipotecario_roma-propiedades_hzx   \n",
      "18954                                                   https://www.properati.com.ar/1k4pv_venta_ph_villa-pueyrredon_balcon_baulera_parrilla_luminoso_garage_aire-acondicionado_apto-credito-hipotecario_bienvende-amelia-claro_e77   \n",
      "18955                                                                                                                            https://www.properati.com.ar/1k4up_venta_departamento_villa-urquiza_riveros-negocios-inmobiliarios   \n",
      "18956                                                                                                                                https://www.properati.com.ar/1k4uq_venta_departamento_agronomia_riveros-negocios-inmobiliarios   \n",
      "18957                                                                                  https://www.properati.com.ar/1k6fh_venta_ph_villa-pueyrredon_balcon_lavadero_parrilla_terraza_vestidor_amoblado_placard_like-propiedades_dvy   \n",
      "18958                                                                                         https://www.properati.com.ar/1k76a_venta_departamento_villa-pueyrredon_balcon_placard_apto-credito-hipotecario_duarte-propiedades_epx   \n",
      "18959                                                 https://www.properati.com.ar/1k7w1_venta_ph_villa-pueyrredon_lavadero_parrilla_patio_quincho_terraza_luminoso_amoblado_impecable_placard_aire-acondicionado_re-max-premium-ii   \n",
      "18960                                                                                                                          https://www.properati.com.ar/1kb1t_venta_departamento_villa-pueyrredon_luminoso_placard_re-max-lagos   \n",
      "18961                                                                                                     https://www.properati.com.ar/1kelk_venta_casa_villa-pueyrredon_lavadero_parrilla_patio_terraza_garage_rcm-propiedades_c67   \n",
      "18962                                                                             https://www.properati.com.ar/1kem4_venta_ph_villa-pueyrredon_parrilla_patio_terraza_luminoso_placard_apto-credito-hipotecario_rcm-propiedades_c67   \n",
      "18963                                                                      https://www.properati.com.ar/1fakt_venta_departamento_villa-lugano_balcon_luminoso_garage_impecable_apto-credito-hipotecario_gabriel-torres-inmobiliaria   \n",
      "18964                                                                                                    https://www.properati.com.ar/1fnpn_venta_departamento_villa-lugano_balcon_luminoso_subte-premetro_dalle-nogare-propiedades   \n",
      "18965                                                                           https://www.properati.com.ar/1glpm_venta_casa_monte-chingolo_suite_jardin_lavadero_parrilla_patio_quincho_vestidor_garage_placard_novo-inmobiliaria   \n",
      "18966                                                                                                         https://www.properati.com.ar/1goie_venta_casa_lanus_lavadero_patio_subte-premetro_insaurralde-servicios-inmobiliarios   \n",
      "18967                                                           https://www.properati.com.ar/1grdk_venta_ph_villa-soldati_gimnasio_lavadero_parrilla_quincho_terraza_toilette_luminoso_impecable_subte-premetro_mb-inmobiliaria-s-a   \n",
      "18968                                                                             https://www.properati.com.ar/1hbft_venta_departamento_villa-soldati_balcon_lavadero_quincho_luminoso_subte-premetro_sanchez-chiliotti-propiedades   \n",
      "18969                                                                                                                   https://www.properati.com.ar/1hbhx_venta_casa_villa-lugano_subte-premetro_patricia-robutti-sucursal-guamini   \n",
      "18970                                                                                                              https://www.properati.com.ar/1hlfv_venta_departamento_villa-soldati_balcon_lavadero_subte-premetro_re-max-parque   \n",
      "18971                                                                                                                              https://www.properati.com.ar/1hlg3_venta_departamento_villa-soldati_subte-premetro_re-max-parque   \n",
      "18972                                                                                       https://www.properati.com.ar/1ie0c_venta_departamento_villa-soldati_acosta-mariano_3495_lavadero_luminoso_subte-premetro_re-max-avenida   \n",
      "18973                                                                                                                                             https://www.properati.com.ar/1j22x_venta_departamento_villa-soldati_re-max-parque   \n",
      "18974                                                                                                           https://www.properati.com.ar/1jcpm_venta_departamento_villa-soldati_roca-cnel-av-_3500_subte-premetro_re-max-parque   \n",
      "18975                                                                                      https://www.properati.com.ar/1k1hs_venta_casa_villa-soldati_lavadero_parrilla_terraza_garage_placard_subte-premetro_re-max-acci-oacute-n   \n",
      "18977                                                                                                                      https://www.properati.com.ar/1k5v0_venta_departamento_villa-soldati_lavadero_subte-premetro_re-max-ayres   \n",
      "18978                                                                                                                       https://www.properati.com.ar/1k5x2_venta_departamento_villa-lugano_balcon_lavadero_sum_re-max-accion-ii   \n",
      "\n",
      "                 barrio  comuna  \n",
      "0               PALERMO    14.0  \n",
      "18              PALERMO    14.0  \n",
      "19              PALERMO    14.0  \n",
      "20              PALERMO    14.0  \n",
      "22              PALERMO    14.0  \n",
      "24              PALERMO    14.0  \n",
      "25              PALERMO    14.0  \n",
      "26              PALERMO    14.0  \n",
      "27              PALERMO    14.0  \n",
      "28              PALERMO    14.0  \n",
      "29              PALERMO    14.0  \n",
      "30              PALERMO    14.0  \n",
      "31              PALERMO    14.0  \n",
      "32              PALERMO    14.0  \n",
      "33              PALERMO    14.0  \n",
      "34              PALERMO    14.0  \n",
      "35              PALERMO    14.0  \n",
      "36              PALERMO    14.0  \n",
      "37              PALERMO    14.0  \n",
      "38              PALERMO    14.0  \n",
      "39              PALERMO    14.0  \n",
      "40              PALERMO    14.0  \n",
      "41              PALERMO    14.0  \n",
      "42              PALERMO    14.0  \n",
      "43              PALERMO    14.0  \n",
      "44              PALERMO    14.0  \n",
      "45              PALERMO    14.0  \n",
      "46              PALERMO    14.0  \n",
      "47              PALERMO    14.0  \n",
      "48              PALERMO    14.0  \n",
      "...                 ...     ...  \n",
      "18947  VILLA PUEYRREDON    12.0  \n",
      "18948  VILLA PUEYRREDON    12.0  \n",
      "18949  VILLA PUEYRREDON    12.0  \n",
      "18950  VILLA PUEYRREDON    12.0  \n",
      "18952  VILLA PUEYRREDON    12.0  \n",
      "18953  VILLA PUEYRREDON    12.0  \n",
      "18954  VILLA PUEYRREDON    12.0  \n",
      "18955  VILLA PUEYRREDON    12.0  \n",
      "18956  VILLA PUEYRREDON    12.0  \n",
      "18957  VILLA PUEYRREDON    12.0  \n",
      "18958  VILLA PUEYRREDON    12.0  \n",
      "18959  VILLA PUEYRREDON    12.0  \n",
      "18960  VILLA PUEYRREDON    12.0  \n",
      "18961  VILLA PUEYRREDON    12.0  \n",
      "18962  VILLA PUEYRREDON    12.0  \n",
      "18963     VILLA SOLDATI     8.0  \n",
      "18964     VILLA SOLDATI     8.0  \n",
      "18965     VILLA SOLDATI     8.0  \n",
      "18966     VILLA SOLDATI     8.0  \n",
      "18967     VILLA SOLDATI     8.0  \n",
      "18968     VILLA SOLDATI     8.0  \n",
      "18969     VILLA SOLDATI     8.0  \n",
      "18970     VILLA SOLDATI     8.0  \n",
      "18971     VILLA SOLDATI     8.0  \n",
      "18972     VILLA SOLDATI     8.0  \n",
      "18973     VILLA SOLDATI     8.0  \n",
      "18974     VILLA SOLDATI     8.0  \n",
      "18975     VILLA SOLDATI     8.0  \n",
      "18977     VILLA SOLDATI     8.0  \n",
      "18978     VILLA SOLDATI     8.0  \n",
      "\n",
      "[17888 rows x 17 columns]\n"
     ]
    }
   ],
   "source": [
    "# Filtrá el dataframe en esta celda\n",
    "df_filtered = df.loc[~df.property_type.isin(['store'])]\n",
    "\n",
    "print(df_filtered)"
   ]
  },
  {
   "cell_type": "markdown",
   "metadata": {},
   "source": [
    "### Visualizando las categorías\n",
    "**5)** Utilizando `seaborn` **creá un countplot** para visualizar las categorías de `df_filtered` en el campo `property_type` "
   ]
  },
  {
   "cell_type": "code",
   "execution_count": 6,
   "metadata": {},
   "outputs": [
    {
     "data": {
      "text/plain": [
       "<matplotlib.axes._subplots.AxesSubplot at 0xa4481d0>"
      ]
     },
     "execution_count": 6,
     "metadata": {},
     "output_type": "execute_result"
    },
    {
     "data": {
      "image/png": "[encoded data removed]",
      "text/plain": [
       "<Figure size 864x576 with 1 Axes>"
      ]
     },
     "metadata": {},
     "output_type": "display_data"
    }
   ],
   "source": [
    "# Visualizá las categorías en esta celda\n",
    "sns.set()\n",
    "sns.countplot(x='property_type', data=df_filtered, saturation=0.75, dodge=True)"
   ]
  },
  {
   "cell_type": "markdown",
   "metadata": {},
   "source": [
    "## Valores Faltantes"
   ]
  },
  {
   "cell_type": "markdown",
   "metadata": {},
   "source": [
    "Vamos a querer descartar aquellas instancias que tengan valores nulos en columnas importantes para el análisis del mercado.\n",
    "Estas columnas son las que informan **superficie (total o cubierta)**, **cantidad de ambientes**, **precio** y **precio por metro cuadrado**.\n",
    "\n",
    "**6) Quitá** del `dataframe` las instancias que no tengan ningún valor en los campos nombrados."
   ]
  },
  {
   "cell_type": "code",
   "execution_count": 7,
   "metadata": {},
   "outputs": [],
   "source": [
    "# Quitá las instancias con valores nules en esta celda\n",
    "df_filtered = df_filtered.dropna(subset=['rooms','surface_covered_in_m2','surface_total_in_m2','price_aprox_usd','price_usd_per_m2'])"
   ]
  },
  {
   "cell_type": "markdown",
   "metadata": {},
   "source": [
    "**7)** A continuación **mostrá** cuantas instancias son las que descartaste a partir de quitar las que tenían valores nulos."
   ]
  },
  {
   "cell_type": "code",
   "execution_count": 8,
   "metadata": {},
   "outputs": [
    {
     "name": "stdout",
     "output_type": "stream",
     "text": [
      "Instancias descartadas: 5913\n"
     ]
    }
   ],
   "source": [
    "# Mostrá en esta celda la cantidad de instancias descartadas\n",
    "#%timeit len(df.loc[~df.property_type.isin(['store'])]) - len(df_filtered)\n",
    "#%timeit df.loc[~df.property_type.isin(['store'])].shape[0] - df_filtered.shape[0]\n",
    "print('Instancias descartadas:',len(df.loc[~df.property_type.isin(['store'])]) - len(df_filtered))"
   ]
  },
  {
   "cell_type": "markdown",
   "metadata": {},
   "source": [
    "Posiblemente existan otros atributos con valores faltantes en el dataset, pero que no son de tanta importancia. \n",
    "\n",
    "**8) Mostrá** qué otros atributos tienen valores faltantes en el `dataframe`."
   ]
  },
  {
   "cell_type": "code",
   "execution_count": 45,
   "metadata": {},
   "outputs": [
    {
     "name": "stdout",
     "output_type": "stream",
     "text": [
      "       index     0\n",
      "11     floor  True\n",
      "13  expenses  True\n"
     ]
    }
   ],
   "source": [
    "# Mostrá en esta celda los otros atributos con valores faltantes\n",
    "dfn = (df_filtered.isna().sum() > 0).reset_index()\n",
    "\n",
    "print(dfn[dfn[0] == True])"
   ]
  },
  {
   "cell_type": "markdown",
   "metadata": {},
   "source": [
    "#### Desafío: planteá alguna estrategia posible para reemplazar los valores faltantes en el atributo `surface_total_in_m2`."
   ]
  },
  {
   "cell_type": "markdown",
   "metadata": {},
   "source": [
    "*Una posible estrategia para reemplazar los valores faltantes en el atributo 'surface_total_in_m2' puede ser hacer un fillna de la columna con el valor de la columna 'surface_covered_in_m2'.*"
   ]
  },
  {
   "cell_type": "markdown",
   "metadata": {},
   "source": [
    "## Datos erróneos"
   ]
  },
  {
   "cell_type": "markdown",
   "metadata": {},
   "source": [
    "El siguiente paso es analizar errores que puede llegar a haber en el dataset. \n",
    "\n",
    "Por ejemplo, la **superficie total no puede ser menor que la cubierta**. Si esto sucede, podemos optar por eliminar esas filas o intentar corregir el problema. Veamos en primer lugar si esto sucede.\n",
    "\n",
    "**9) Mostrá** cuantas instancias existen que tengan el problema de este dato erróneo y guardalas en una variable llamada `wrong_surface_rows`"
   ]
  },
  {
   "cell_type": "code",
   "execution_count": 46,
   "metadata": {},
   "outputs": [
    {
     "name": "stdout",
     "output_type": "stream",
     "text": [
      "Instancias con sup. total menor a sup. cubierta (errores en la superficie): 73\n",
      "      created_on operation property_type  \\\n",
      "106   2017-09-07      sell         house   \n",
      "153   2017-09-12      sell     apartment   \n",
      "935   2017-11-06      sell     apartment   \n",
      "1174  2017-11-22      sell         house   \n",
      "1176  2017-11-22      sell     apartment   \n",
      "1317  2017-12-05      sell     apartment   \n",
      "1547  2017-12-18      sell     apartment   \n",
      "2300  2018-01-31      sell     apartment   \n",
      "2314  2018-01-31      sell     apartment   \n",
      "4961  2017-12-05      sell     apartment   \n",
      "5012  2017-12-06      sell     apartment   \n",
      "5091  2017-12-31      sell     apartment   \n",
      "5349  2018-01-24      sell     apartment   \n",
      "5800  2018-01-18      sell     apartment   \n",
      "5867  2018-01-27      sell     apartment   \n",
      "5942  2017-09-06      sell         house   \n",
      "6297  2017-12-05      sell         house   \n",
      "6373  2017-12-22      sell     apartment   \n",
      "6519  2018-01-21      sell     apartment   \n",
      "6797  2017-12-13      sell            PH   \n",
      "6799  2017-12-15      sell         house   \n",
      "6806  2017-12-26      sell         house   \n",
      "6846  2018-01-09      sell     apartment   \n",
      "6969  2018-01-31      sell     apartment   \n",
      "7289  2017-10-29      sell     apartment   \n",
      "7310  2017-11-05      sell     apartment   \n",
      "7676  2017-09-16      sell         house   \n",
      "7736  2018-01-23      sell     apartment   \n",
      "7808  2017-11-15      sell     apartment   \n",
      "9085  2018-01-20      sell     apartment   \n",
      "...          ...       ...           ...   \n",
      "12458 2017-10-18      sell         house   \n",
      "12485 2017-10-25      sell            PH   \n",
      "12514 2017-11-02      sell     apartment   \n",
      "12543 2017-11-12      sell     apartment   \n",
      "12844 2018-01-19      sell         house   \n",
      "12889 2018-01-20      sell     apartment   \n",
      "12943 2018-01-28      sell         house   \n",
      "13065 2017-09-21      sell     apartment   \n",
      "13654 2017-11-25      sell     apartment   \n",
      "13655 2017-11-25      sell     apartment   \n",
      "14246 2018-01-19      sell         house   \n",
      "14262 2018-01-20      sell         house   \n",
      "14427 2017-11-09      sell     apartment   \n",
      "14428 2017-11-09      sell     apartment   \n",
      "15826 2017-09-16      sell     apartment   \n",
      "15867 2017-11-02      sell     apartment   \n",
      "16035 2017-12-06      sell     apartment   \n",
      "16116 2018-01-27      sell     apartment   \n",
      "16553 2017-11-04      sell     apartment   \n",
      "16595 2017-12-18      sell         house   \n",
      "17081 2018-01-08      sell         house   \n",
      "17128 2018-01-20      sell         house   \n",
      "17461 2018-01-20      sell         house   \n",
      "17474 2018-01-27      sell            PH   \n",
      "17541 2017-10-25      sell            PH   \n",
      "17731 2018-01-27      sell         house   \n",
      "18003 2017-08-30      sell         house   \n",
      "18153 2017-12-17      sell         house   \n",
      "18694 2017-10-07      sell     apartment   \n",
      "18765 2018-01-08      sell     apartment   \n",
      "\n",
      "                             place_with_parent_names  \\\n",
      "106             |Argentina|Capital Federal|Belgrano|   \n",
      "153              |Argentina|Capital Federal|Palermo|   \n",
      "935              |Argentina|Capital Federal|Palermo|   \n",
      "1174             |Argentina|Capital Federal|Palermo|   \n",
      "1176             |Argentina|Capital Federal|Palermo|   \n",
      "1317             |Argentina|Capital Federal|Palermo|   \n",
      "1547             |Argentina|Capital Federal|Palermo|   \n",
      "2300             |Argentina|Capital Federal|Palermo|   \n",
      "2314             |Argentina|Capital Federal|Palermo|   \n",
      "4961                |Argentina|Capital Federal|Once|   \n",
      "5012              |Argentina|Capital Federal|Abasto|   \n",
      "5091           |Argentina|Capital Federal|Balvanera|   \n",
      "5349           |Argentina|Capital Federal|Balvanera|   \n",
      "5800           |Argentina|Capital Federal|Monserrat|   \n",
      "5867           |Argentina|Capital Federal|Balvanera|   \n",
      "5942        |Argentina|Capital Federal|Villa Crespo|   \n",
      "6297        |Argentina|Capital Federal|Villa Crespo|   \n",
      "6373           |Argentina|Capital Federal|Caballito|   \n",
      "6519        |Argentina|Capital Federal|Villa Crespo|   \n",
      "6797             |Argentina|Capital Federal|Liniers|   \n",
      "6799             |Argentina|Capital Federal|Liniers|   \n",
      "6806             |Argentina|Capital Federal|Liniers|   \n",
      "6846           |Argentina|Capital Federal|Versalles|   \n",
      "6969             |Argentina|Capital Federal|Liniers|   \n",
      "7289         |Argentina|Capital Federal|San Nicolás|   \n",
      "7310         |Argentina|Capital Federal|San Nicolás|   \n",
      "7676           |Argentina|Capital Federal|Agronomía|   \n",
      "7736    |Argentina|Capital Federal|Villa Pueyrredón|   \n",
      "7808     |Argentina|Capital Federal|Velez Sarsfield|   \n",
      "9085              |Argentina|Capital Federal|Retiro|   \n",
      "...                                              ...   \n",
      "12458             |Argentina|Capital Federal|Flores|   \n",
      "12485             |Argentina|Capital Federal|Flores|   \n",
      "12514             |Argentina|Capital Federal|Flores|   \n",
      "12543             |Argentina|Capital Federal|Flores|   \n",
      "12844             |Argentina|Capital Federal|Flores|   \n",
      "12889             |Argentina|Capital Federal|Flores|   \n",
      "12943             |Argentina|Capital Federal|Flores|   \n",
      "13065      |Argentina|Capital Federal|Puerto Madero|   \n",
      "13654      |Argentina|Capital Federal|Villa Urquiza|   \n",
      "13655      |Argentina|Capital Federal|Villa Urquiza|   \n",
      "14246       |Argentina|Capital Federal|Villa Devoto|   \n",
      "14262       |Argentina|Capital Federal|Villa Devoto|   \n",
      "14427       |Argentina|Capital Federal|Constitución|   \n",
      "14428          |Argentina|Capital Federal|San Telmo|   \n",
      "15826   |Argentina|Capital Federal|Villa del Parque|   \n",
      "15867   |Argentina|Capital Federal|Villa Santa Rita|   \n",
      "16035           |Argentina|Capital Federal|Floresta|   \n",
      "16116           |Argentina|Capital Federal|Floresta|   \n",
      "16553              |Argentina|Capital Federal|Boedo|   \n",
      "16595              |Argentina|Capital Federal|Boedo|   \n",
      "17081       |Argentina|Capital Federal|Villa Devoto|   \n",
      "17128       |Argentina|Capital Federal|Villa Devoto|   \n",
      "17461         |Argentina|Capital Federal|Villa Luro|   \n",
      "17474  |Argentina|Capital Federal|Parque Avellaneda|   \n",
      "17541       |Argentina|Capital Federal|Villa Lugano|   \n",
      "17731           |Argentina|Capital Federal|Paternal|   \n",
      "18003         |Argentina|Capital Federal|Villa Real|   \n",
      "18153           |Argentina|Capital Federal|Belgrano|   \n",
      "18694            |Argentina|Capital Federal|Coghlan|   \n",
      "18765           |Argentina|Capital Federal|Belgrano|   \n",
      "\n",
      "                             lat-lon        lat        lon  price_aprox_usd  \\\n",
      "106            -34.566867,-58.444197 -34.566867 -58.444197       1650000.00   \n",
      "153          -34.5830704,-58.4241896 -34.583070 -58.424190        140000.00   \n",
      "935          -34.5869532,-58.4189032 -34.586953 -58.418903        275000.00   \n",
      "1174           -34.583652,-58.444111 -34.583652 -58.444111        930000.00   \n",
      "1176   -34.5821555519,-58.4230147059 -34.582156 -58.423015        297109.32   \n",
      "1317           -34.583175,-58.421452 -34.583175 -58.421452        154000.00   \n",
      "1547           -34.596423,-58.422257 -34.596423 -58.422257        151500.00   \n",
      "2300   -34.5673864513,-58.4321862422 -34.567386 -58.432186        330000.00   \n",
      "2314          -34.5860312,-58.419436 -34.586031 -58.419436        140000.00   \n",
      "4961           -34.601159,-58.398106 -34.601159 -58.398106         88604.07   \n",
      "5012           -34.601013,-58.409113 -34.601013 -58.409113        235000.00   \n",
      "5091           -34.600699,-58.407655 -34.600699 -58.407655         53000.00   \n",
      "5349         -34.6125172,-58.3948187 -34.612517 -58.394819         68500.00   \n",
      "5800             -34.610306,-58.3777 -34.610306 -58.377700        196000.00   \n",
      "5867   -34.6156047978,-58.3915648715 -34.615605 -58.391565        134800.00   \n",
      "5942         -34.6019462,-58.4511617 -34.601946 -58.451162        549000.00   \n",
      "6297           -34.602673,-58.451788 -34.602673 -58.451788        350000.00   \n",
      "6373           -34.605237,-58.455291 -34.605237 -58.455291         89500.00   \n",
      "6519   -34.5963659942,-58.4464294929 -34.596366 -58.446429        198900.00   \n",
      "6797           -34.638822,-58.516273 -34.638822 -58.516273        160000.00   \n",
      "6799         -34.6467129,-58.5286524 -34.646713 -58.528652        330000.00   \n",
      "6806          -34.646191,-58.5212109 -34.646191 -58.521211        290000.00   \n",
      "6846       -34.63315201,-58.51760864 -34.633152 -58.517609         95000.00   \n",
      "6969         -34.6411441,-58.5140068 -34.641144 -58.514007        235000.00   \n",
      "7289             -34.60536,-58.38418 -34.605360 -58.384180         66000.00   \n",
      "7310           -34.601809,-58.390744 -34.601809 -58.390744        119500.00   \n",
      "7676           -34.589358,-58.488743 -34.589358 -58.488743        495000.00   \n",
      "7736         -34.5900008,-58.4899729 -34.590001 -58.489973        120000.00   \n",
      "7808           -34.630566,-58.498083 -34.630566 -58.498083        200000.00   \n",
      "9085           -34.596547,-58.380597 -34.596547 -58.380597        105000.00   \n",
      "...                              ...        ...        ...              ...   \n",
      "12458    -34.65008644,-58.4599456499 -34.650086 -58.459946        350000.00   \n",
      "12485           -34.64373,-58.459733 -34.643730 -58.459733        179000.00   \n",
      "12514        -34.6225308,-58.4596155 -34.622531 -58.459616         99000.00   \n",
      "12543          -34.629309,-58.460051 -34.629309 -58.460051         95000.00   \n",
      "12844           -34.63974,-58.456514 -34.639740 -58.456514        114500.00   \n",
      "12889  -34.6248656308,-58.4690514032 -34.624866 -58.469051         90000.00   \n",
      "12943          -34.621727,-58.458649 -34.621727 -58.458649        230000.00   \n",
      "13065        -34.6134244,-58.3617815 -34.613424 -58.361781        720000.00   \n",
      "13654  -34.5732168457,-58.4732080383 -34.573217 -58.473208       7403868.00   \n",
      "13655  -34.5732168457,-58.4732080383 -34.573217 -58.473208       7125061.00   \n",
      "14246          -34.611365,-58.509729 -34.611365 -58.509729        320000.00   \n",
      "14262          -34.618358,-58.516188 -34.618358 -58.516188        670000.00   \n",
      "14427           -34.627041,-58.38241 -34.627041 -58.382410        155000.00   \n",
      "14428   -34.6249769774,-58.379308628 -34.624977 -58.379309        102399.38   \n",
      "15826        -34.6102419,-58.4805853 -34.610242 -58.480585        130000.00   \n",
      "15867           -34.61871,-58.478796 -34.618710 -58.478796         64000.00   \n",
      "16035        -34.6246951,-58.4874458 -34.624695 -58.487446        345000.00   \n",
      "16116          -34.628616,-58.481157 -34.628616 -58.481157         84900.00   \n",
      "16553          -34.626695,-58.416072 -34.626695 -58.416072        180000.00   \n",
      "16595          -34.631554,-58.418123 -34.631554 -58.418123        369000.00   \n",
      "17081  -34.6177835704,-58.5082419614 -34.617784 -58.508242        530000.00   \n",
      "17128           -34.61691,-58.498013 -34.616910 -58.498013        580000.00   \n",
      "17461          -34.645283,-58.491211 -34.645283 -58.491211        455000.00   \n",
      "17474          -34.651003,-58.476491 -34.651003 -58.476491        159000.00   \n",
      "17541          -34.661829,-58.480414 -34.661829 -58.480414        139000.00   \n",
      "17731          -34.589874,-58.468107 -34.589874 -58.468107        290000.00   \n",
      "18003           -34.62001,-58.522279 -34.620010 -58.522279        299000.00   \n",
      "18153          -34.574536,-58.470279 -34.574536 -58.470279       1340000.00   \n",
      "18694        -34.5637396,-58.4757468 -34.563740 -58.475747         85000.00   \n",
      "18765          -34.561435,-58.467646 -34.561435 -58.467646         95000.00   \n",
      "\n",
      "       surface_total_in_m2  surface_covered_in_m2  price_usd_per_m2  floor  \\\n",
      "106                  455.0                  456.0       3626.373626    NaN   \n",
      "153                   39.0                   44.0       3589.743590    NaN   \n",
      "935                   13.0                   79.0      21153.846154    1.0   \n",
      "1174                 205.0                  343.0       4536.585366    NaN   \n",
      "1176                 117.0                  745.0       2539.395897    7.0   \n",
      "1317                  55.0                   56.0       2800.000000    1.0   \n",
      "1547                  50.0                 4556.0       3030.000000    4.0   \n",
      "2300                  95.0                  100.0       3473.684211    3.0   \n",
      "2314                  55.0                   56.0       2545.454545    NaN   \n",
      "4961                  33.0                  295.0       2684.971818    NaN   \n",
      "5012                 162.0                  185.0       1450.617284    NaN   \n",
      "5091                  19.0                   20.0       2789.473684    NaN   \n",
      "5349                  27.0                   30.0       2537.037037    NaN   \n",
      "5800                 130.0                  131.0       1507.692308    NaN   \n",
      "5867                  50.0                  147.0       2696.000000    NaN   \n",
      "5942                 350.0                  355.0       1568.571429    NaN   \n",
      "6297                 228.0                  350.0       1535.087719    NaN   \n",
      "6373                  32.0                   33.0       2796.875000    NaN   \n",
      "6519                  80.0                 7475.0       2486.250000    4.0   \n",
      "6797                 116.0                  212.0       1379.310345    NaN   \n",
      "6799                 182.0                  196.0       1813.186813    NaN   \n",
      "6806                 114.0                  169.0       2543.859649    NaN   \n",
      "6846                  52.0                   60.0       1826.923077    NaN   \n",
      "6969                  21.0                  150.0      11190.476190    NaN   \n",
      "7289                  32.0                   33.0       2062.500000    NaN   \n",
      "7310                  54.0                   55.0       2212.962963    2.0   \n",
      "7676                 263.0                  302.0       1882.129278    NaN   \n",
      "7736                  40.0                   42.0       3000.000000    NaN   \n",
      "7808                  89.0                  186.0       2247.191011    NaN   \n",
      "9085                  46.0                   47.0       2282.608696    NaN   \n",
      "...                    ...                    ...               ...    ...   \n",
      "12458                225.0                  475.0       1555.555556    NaN   \n",
      "12485                 78.0                  111.0       2294.871795    NaN   \n",
      "12514                 41.0                   43.0       2414.634146    NaN   \n",
      "12543                 30.0                   31.0       3166.666667    NaN   \n",
      "12844                 75.0                   98.0       1526.666667    NaN   \n",
      "12889                 43.0                   46.0       2093.023256    NaN   \n",
      "12943                134.0                  142.0       1716.417910    NaN   \n",
      "13065                120.0                  132.0       6000.000000    NaN   \n",
      "13654                121.0                  965.0      61188.991736    3.0   \n",
      "13655                115.0                  955.0      61957.052174    3.0   \n",
      "14246                173.0                  182.0       1849.710983    NaN   \n",
      "14262                280.0                  400.0       2392.857143    NaN   \n",
      "14427                 92.0                   93.0       1684.782609    7.0   \n",
      "14428                 48.0                 4435.0       2133.320417    1.0   \n",
      "15826                 60.0                   62.0       2166.666667    NaN   \n",
      "15867                 35.0                   36.0       1828.571429    NaN   \n",
      "16035                165.0                  190.0       2090.909091    NaN   \n",
      "16116                 40.0                   41.0       2122.500000    9.0   \n",
      "16553                 80.0                   81.0       2250.000000    NaN   \n",
      "16595                260.0                  294.0       1419.230769    NaN   \n",
      "17081                250.0                  253.0       2120.000000    NaN   \n",
      "17128                242.0                  370.0       2396.694215    NaN   \n",
      "17461                253.0                  350.0       1798.418972    NaN   \n",
      "17474                150.0                  152.0       1060.000000    NaN   \n",
      "17541                 53.0                   97.0       2622.641509    NaN   \n",
      "17731                135.0                  156.0       2148.148148    NaN   \n",
      "18003                100.0                  180.0       2990.000000    NaN   \n",
      "18153                541.0                  650.0       2476.894640    NaN   \n",
      "18694                 40.0                   46.0       2125.000000    NaN   \n",
      "18765                 27.0                   28.0       3518.518519    8.0   \n",
      "\n",
      "       rooms  expenses  \\\n",
      "106      5.0       NaN   \n",
      "153      1.0       NaN   \n",
      "935      4.0       NaN   \n",
      "1174     5.0       NaN   \n",
      "1176     2.0       NaN   \n",
      "1317     3.0       NaN   \n",
      "1547     2.0       NaN   \n",
      "2300     3.0       NaN   \n",
      "2314     3.0    1500.0   \n",
      "4961     1.0       NaN   \n",
      "5012     4.0    6000.0   \n",
      "5091     1.0       NaN   \n",
      "5349     2.0    1000.0   \n",
      "5800     7.0       NaN   \n",
      "5867     2.0       NaN   \n",
      "5942     6.0       NaN   \n",
      "6297    10.0       NaN   \n",
      "6373     1.0       NaN   \n",
      "6519     4.0       NaN   \n",
      "6797     5.0       NaN   \n",
      "6799     5.0       NaN   \n",
      "6806     4.0       NaN   \n",
      "6846     2.0       NaN   \n",
      "6969     4.0       NaN   \n",
      "7289     2.0       NaN   \n",
      "7310     3.0       NaN   \n",
      "7676     6.0       NaN   \n",
      "7736     2.0    1000.0   \n",
      "7808     3.0       NaN   \n",
      "9085     2.0       NaN   \n",
      "...      ...       ...   \n",
      "12458    3.0       NaN   \n",
      "12485    5.0       NaN   \n",
      "12514    1.0       NaN   \n",
      "12543    2.0       NaN   \n",
      "12844    4.0       NaN   \n",
      "12889    2.0    1100.0   \n",
      "12943    4.0       NaN   \n",
      "13065    4.0   11000.0   \n",
      "13654    4.0       NaN   \n",
      "13655    4.0       NaN   \n",
      "14246    3.0       NaN   \n",
      "14262    7.0       NaN   \n",
      "14427    3.0       NaN   \n",
      "14428    2.0       NaN   \n",
      "15826    3.0    1660.0   \n",
      "15867    1.0       NaN   \n",
      "16035    4.0       NaN   \n",
      "16116    2.0       NaN   \n",
      "16553    4.0       NaN   \n",
      "16595    6.0       NaN   \n",
      "17081    6.0       NaN   \n",
      "17128    5.0       NaN   \n",
      "17461    6.0       NaN   \n",
      "17474    3.0       NaN   \n",
      "17541    3.0       NaN   \n",
      "17731    3.0       NaN   \n",
      "18003    6.0       NaN   \n",
      "18153   11.0       NaN   \n",
      "18694    2.0       NaN   \n",
      "18765    1.0       NaN   \n",
      "\n",
      "                                                                                                                                                                                                                             properati_url  \\\n",
      "106                           https://www.properati.com.ar/1ehbq_venta_casa_belgrano_suite_gimnasio_hidromasaje_jardin_lavadero_parrilla_patio_quincho_terraza_toilette_vestidor_luminoso_lujoso_garage_impecable_subte-linea-d_re-max-win   \n",
      "153                                                                                                                        https://www.properati.com.ar/1en9l_venta_departamento_palermo_luminoso_estrenar_subte-linea-d_mavia-propiedades   \n",
      "935                                                                             https://www.properati.com.ar/1htrv_venta_departamento_palermo_scalabrini-ortiz-av-r-_2300_baulera_patio_toilette_dependencias_garage_bengochea-propiedades   \n",
      "1174                                                                                                                   https://www.properati.com.ar/1ibt5_venta_casa_palermo_balcon_lavadero_parrilla_patio_terraza_garage_re-max-total-iv   \n",
      "1176                                                                                                    https://www.properati.com.ar/1ibu1_venta_departamento_palermo_thames_2400_subte-linea-d_narvaez-cia-walter-fabian-narvaez-csi-4169   \n",
      "1317                                                                                            https://www.properati.com.ar/1ila0_venta_departamento_palermo_baulera_lavadero_toilette_luminoso_garage_subte-linea-d_re-max-ra-iacute-ces   \n",
      "1547                                                                                       https://www.properati.com.ar/1j2e5_venta_departamento_palermo_gimnasio_lavadero_parrilla_piscina_sum_sauna_garage_subte-linea-b_re-max-total-ii   \n",
      "2300                                                   https://www.properati.com.ar/1k9zk_venta_departamento_palermo_san-benito-de-palermo_1600_balcon_lavadero_luminoso_dependencias_placard_doble-circulacion_podesta-castro-propiedades   \n",
      "2314                                                                                                                                     https://www.properati.com.ar/1kbgk_venta_departamento_palermo_subte-linea-d_birabel-bienes-raices   \n",
      "4961                                                               https://www.properati.com.ar/1il1e_venta_departamento_once_balcon_lavadero_parrilla_electrogeno_aire-acondicionado_subte-linea-d_subte-linea-b_subte-linea-h_re-max-uno   \n",
      "5012                                                                      https://www.properati.com.ar/1iswf_venta_departamento_abasto_balcon_baulera_lavadero_patio_terraza_dependencias_subte-linea-b_subte-linea-h_gruz-propiedades_gka   \n",
      "5091                                                                                                                   https://www.properati.com.ar/1jalb_venta_departamento_balvanera_luminoso_subte-linea-b_subte-linea-h_re-max-destino   \n",
      "5349                                                                                      https://www.properati.com.ar/1k22b_venta_departamento_balvanera_lavadero_luminoso_subte-linea-a_apto-credito-hipotecario_predial-propiedades_c3a   \n",
      "5800                                                       https://www.properati.com.ar/1jnvu_venta_departamento_monserrat_toilette_luminoso_garage_subte-linea-d_subte-linea-b_subte-linea-a_subte-linea-e_subte-linea-c_re-max-del-plata   \n",
      "5867                                                              https://www.properati.com.ar/1k63k_venta_departamento_balvanera_entre-rios-av-_600_balcon_luminoso_placard_aire-acondicionado_subte-linea-a_subte-linea-e_re-max-total-v   \n",
      "5942                                                                 https://www.properati.com.ar/1ed07_venta_casa_villa-crespo_belaustegui-luis-dr-_500_suite_jardin_lavadero_parrilla_piscina_toilette_vestidor_lexinton-propiedades_937   \n",
      "6297                                                                                                                                                   https://www.properati.com.ar/1il2r_venta_casa_villa-crespo_jardin_re-max-data-house   \n",
      "6373                                                                                                                 https://www.properati.com.ar/1j6yy_venta_departamento_caballito_gimnasio_piscina_luminoso_sauna_amenities_re-max-time   \n",
      "6519                                                                         https://www.properati.com.ar/1k0zl_venta_departamento_villa-crespo_justo-juan-b-av-_2800_balcon_baulera_lavadero_toilette_garage_subte-linea-b_re-max-premium   \n",
      "6797                                                                                                                                   https://www.properati.com.ar/1iylv_venta_ph_villa-luro_balcon_suite_terraza_luminoso_re-max-platino   \n",
      "6799                                                                                                                                               https://www.properati.com.ar/1j16v_venta_casa_liniers_patio_garage_nole-propiedades_cbd   \n",
      "6806                                                              https://www.properati.com.ar/1j8vh_venta_casa_liniers_baulera_parrilla_patio_quincho_terraza_toilette_vestidor_garage_impecable_gustavo-vega-compromiso-inmobiliario_gle   \n",
      "6846                                                                                https://www.properati.com.ar/1jhfo_venta_departamento_versalles_juan-b-justo_9100_lavadero_amoblado_apto-credito-hipotecario_magnacca-e-m-inmobiliaria   \n",
      "6969                                                                                                      https://www.properati.com.ar/1ke9t_venta_departamento_liniers_balcon_lavadero_patio_terraza_toilette_garage_placard_niro-brokers   \n",
      "7289                                                                                                https://www.properati.com.ar/1hlhw_venta_departamento_san-nicolas_subte-linea-d_subte-linea-b_subte-linea-a_subte-linea-c_re-max-plaza   \n",
      "7310                                                                                                        https://www.properati.com.ar/1hte4_venta_departamento_san-nicolas_lavadero_luminoso_subte-linea-d_subte-linea-b_re-max-classic   \n",
      "7676                                                                                 https://www.properati.com.ar/1ewt3_venta_casa_agronomia_suite_jardin_lavadero_parrilla_piscina_quincho_toilette_luminoso_lujoso_garage_re-max-platino   \n",
      "7736                                                                                                     https://www.properati.com.ar/1k1ko_venta_departamento_villa-pueyrredon_solano-lopez_2400_balcon_luminoso_garage_dueno-directo_c4o   \n",
      "7808                                                                                          https://www.properati.com.ar/1i5hq_venta_ph_velez-sarsfield_balcon_hidromasaje_lavadero_parrilla_terraza_vestidor_luminoso_re-max-premium-ii   \n",
      "9085                                                                         https://www.properati.com.ar/1ju0a_venta_departamento_retiro_toilette_doble-circulacion_subte-linea-d_subte-linea-b_subte-linea-h_subte-linea-c_re-max-zafiro   \n",
      "...                                                                                                                                                                                                                                    ...   \n",
      "12458                                                                                          https://www.properati.com.ar/1h2de_venta_casa_flores_pergamino_1900_balcon_patio_luminoso_garage_subte-linea-e_subte-premetro_re-max-urbana   \n",
      "12485                                                                                                   https://www.properati.com.ar/1hdwt_venta_ph_flores_lavadero_patio_terraza_luminoso_subte-linea-e_subte-premetro_re-max-cosmopolita   \n",
      "12514                                                                                                 https://www.properati.com.ar/1hpzc_venta_departamento_flores_lavadero_parrilla_piscina_sum_luminoso_subte-linea-a_campos-propiedades   \n",
      "12543                                                                                                      https://www.properati.com.ar/1i1nu_venta_departamento_flores_luminoso_garage_impecable_placard_subte-linea-a_re-max-cosmopolita   \n",
      "12844                                                                                                                                 https://www.properati.com.ar/1jp16_venta_casa_flores_patio_subte-linea-e_subte-premetro_re-max-elite   \n",
      "12889                                                                                                                       https://www.properati.com.ar/1juwq_venta_departamento_flores_lavadero_placard_subte-linea-a_grupo-mega-stodart   \n",
      "12943                                                                                https://www.properati.com.ar/1k7ee_venta_casa_flores_parrilla_patio_quincho_terraza_toilette_luminoso_garage_placard_subte-linea-a_re-max-cosmopolita   \n",
      "13065                                                                                                                   https://www.properati.com.ar/1f91t_venta_departamento_puerto-madero_martha-salotti_300_amenities_dueno-directo_hhz   \n",
      "13654                                                                               https://www.properati.com.ar/1ifig_venta_departamento_villa-urquiza_echeverria_4200_balcon_terraza_luminoso_narvaez-cia-walter-fabian-narvaez-csi-4169   \n",
      "13655                                                                               https://www.properati.com.ar/1ifin_venta_departamento_villa-urquiza_echeverria_4200_balcon_terraza_luminoso_narvaez-cia-walter-fabian-narvaez-csi-4169   \n",
      "14246                                                                                                                   https://www.properati.com.ar/1josp_venta_casa_villa-devoto_baulera_parrilla_patio_terraza_garage_re-max-premium-ii   \n",
      "14262   https://www.properati.com.ar/1ju4v_venta_casa_villa-devoto_balcon_suite_jardin_lavadero_parrilla_patio_piscina_quincho_terraza_toilette_vestidor_luminoso_vista_kitchinete_lujoso_dependencias_garage_doble-circulacion_re-max-uno   \n",
      "14427                                       https://www.properati.com.ar/1hxxu_venta_departamento_constitucion_lavadero_toilette_luminoso_impecable_aire-acondicionado_subte-linea-e_subte-linea-c_apto-credito-hipotecario_re-max-total-v   \n",
      "14428  https://www.properati.com.ar/1hz9x_venta_departamento_san-telmo_irigoyen-bernardo-de_1400_lavadero_parrilla_sum_luminoso_garage_amenities_aire-acondicionado_subte-linea-e_subte-linea-c_narvaez-cia-walter-fabian-narvaez-csi-4169   \n",
      "15826                                               https://www.properati.com.ar/1evsp_venta_departamento_villa-del-parque_pje-jose-ingenieros_2800_balcon_lavadero_luminoso_impecable_estrenar_apto-credito-hipotecario_dueno-directo_hce   \n",
      "15867                                                                                                          https://www.properati.com.ar/1hp84_venta_departamento_villa-santa-rita_balcon_parrilla_aire-acondicionado_re-max-data-house   \n",
      "16035                                                                                                https://www.properati.com.ar/1ipss_venta_departamento_floresta_balcon_lavadero_patio_quincho_vista_dependencias_garage_maso-y-cia_5k8   \n",
      "16116                                                                                                                                                 https://www.properati.com.ar/1k69e_venta_departamento_floresta_luminoso_re-max-elite   \n",
      "16553                                                                                                         https://www.properati.com.ar/1hrfp_venta_departamento_boedo_toilette_luminoso_aire-acondicionado_subte-linea-e_re-max-urbana   \n",
      "16595                                                                              https://www.properati.com.ar/1j2dw_venta_casa_boedo_balcon_jardin_lavadero_parrilla_patio_terraza_garage_doble-circulacion_subte-linea-e_re-max-liberty   \n",
      "17081                                                            https://www.properati.com.ar/1jco2_venta_casa_villa-devoto_maturana-jose-de_4800_jardin_lavadero_terraza_toilette_lujoso_dependencias_garage_placard_re-max-acci-oacute-n   \n",
      "17128                                                                                                                                     https://www.properati.com.ar/1ju90_venta_casa_villa-devoto_lavadero_patio_luminoso_re-max-urbana   \n",
      "17461                                           https://www.properati.com.ar/1ju8u_venta_casa_villa-luro_suite_jardin_lavadero_parrilla_patio_sotano_terraza_toilette_luminoso_dependencias_garage_aire-acondicionado_re-max-acci-oacute-n   \n",
      "17474                                                                                                                          https://www.properati.com.ar/1k64s_venta_ph_parque-avellaneda_lavadero_patio_terraza_luminoso_re-max-urbana   \n",
      "17541                                                                                                                            https://www.properati.com.ar/1hdws_venta_ph_villa-lugano_patio_terraza_luminoso_garage_re-max-cosmopolita   \n",
      "17731                                                                                                                                https://www.properati.com.ar/1k622_venta_casa_paternal_terraza_garage_subte-linea-b_re-max-bur-oacute   \n",
      "18003                                                           https://www.properati.com.ar/1e2z7_venta_casa_villa-real_suite_hidromasaje_parrilla_patio_piscina_toilette_vestidor_luminoso_garage_apto-credito-hipotecario_re-max-parque   \n",
      "18153                                                                     https://www.properati.com.ar/1j210_venta_casa_belgrano_balcon_baulera_suite_jardin_lavadero_piscina_quincho_vestidor_garage_aire-acondicionado_re-max-liberty-ii   \n",
      "18694                                                                                                                        https://www.properati.com.ar/1g07v_venta_departamento_coghlan_balcon_lavadero_luminoso_inm-ugarte-propiedades   \n",
      "18765                                                                                                                  https://www.properati.com.ar/1jc4n_venta_departamento_belgrano_gimnasio_lavadero_piscina_sum_amenities_re-max-ayres   \n",
      "\n",
      "                  barrio  comuna  \n",
      "106              PALERMO    14.0  \n",
      "153              PALERMO    14.0  \n",
      "935              PALERMO    14.0  \n",
      "1174             PALERMO    14.0  \n",
      "1176             PALERMO    14.0  \n",
      "1317             PALERMO    14.0  \n",
      "1547             PALERMO    14.0  \n",
      "2300             PALERMO    14.0  \n",
      "2314             PALERMO    14.0  \n",
      "4961           BALVANERA     3.0  \n",
      "5012           BALVANERA     3.0  \n",
      "5091           BALVANERA     3.0  \n",
      "5349           BALVANERA     3.0  \n",
      "5800           MONSERRAT     1.0  \n",
      "5867           MONSERRAT     1.0  \n",
      "5942        VILLA CRESPO    15.0  \n",
      "6297        VILLA CRESPO    15.0  \n",
      "6373        VILLA CRESPO    15.0  \n",
      "6519        VILLA CRESPO    15.0  \n",
      "6797             LINIERS     9.0  \n",
      "6799             LINIERS     9.0  \n",
      "6806             LINIERS     9.0  \n",
      "6846             LINIERS     9.0  \n",
      "6969             LINIERS     9.0  \n",
      "7289         SAN NICOLAS     1.0  \n",
      "7310         SAN NICOLAS     1.0  \n",
      "7676           AGRONOMIA    15.0  \n",
      "7736           AGRONOMIA    15.0  \n",
      "7808     VELEZ SARSFIELD    10.0  \n",
      "9085              RETIRO     1.0  \n",
      "...                  ...     ...  \n",
      "12458             FLORES     7.0  \n",
      "12485             FLORES     7.0  \n",
      "12514             FLORES     7.0  \n",
      "12543             FLORES     7.0  \n",
      "12844             FLORES     7.0  \n",
      "12889             FLORES     7.0  \n",
      "12943             FLORES     7.0  \n",
      "13065      PUERTO MADERO     1.0  \n",
      "13654      VILLA URQUIZA    12.0  \n",
      "13655      VILLA URQUIZA    12.0  \n",
      "14246       VILLA DEVOTO    11.0  \n",
      "14262       VILLA DEVOTO    11.0  \n",
      "14427       CONSTITUCION     1.0  \n",
      "14428       CONSTITUCION     1.0  \n",
      "15826   VILLA SANTA RITA    11.0  \n",
      "15867   VILLA SANTA RITA    11.0  \n",
      "16035           FLORESTA    10.0  \n",
      "16116           FLORESTA    10.0  \n",
      "16553              BOEDO     5.0  \n",
      "16595              BOEDO     5.0  \n",
      "17081       MONTE CASTRO    10.0  \n",
      "17128       MONTE CASTRO    10.0  \n",
      "17461  PARQUE AVELLANEDA     9.0  \n",
      "17474  PARQUE AVELLANEDA     9.0  \n",
      "17541       VILLA LUGANO     8.0  \n",
      "17731           PATERNAL    15.0  \n",
      "18003         VILLA REAL    10.0  \n",
      "18153      VILLA ORTUZAR    15.0  \n",
      "18694            COGHLAN    12.0  \n",
      "18765            COGHLAN    12.0  \n",
      "\n",
      "[73 rows x 17 columns]\n"
     ]
    }
   ],
   "source": [
    "# Mostrá en esta celda cuántas instancias tienen errores en la superficie\n",
    "print('Instancias con sup. total menor a sup. cubierta (errores en la superficie):',(df_filtered.surface_total_in_m2 < df_filtered.surface_covered_in_m2).sum())\n",
    "wrong_surface_rows = df_filtered[df_filtered.surface_total_in_m2 < df_filtered.surface_covered_in_m2]"
   ]
  },
  {
   "cell_type": "markdown",
   "metadata": {},
   "source": [
    "Proponemos no borrar estas instancias erróneas, sino intercambiar los valores de **superficie total** con **superficie cubierta** en caso de que se cumpla la condición mencionada."
   ]
  },
  {
   "cell_type": "code",
   "execution_count": 12,
   "metadata": {},
   "outputs": [],
   "source": [
    "df_filtered.at[wrong_surface_rows.index, 'surface_total_in_m2'] = wrong_surface_rows.surface_covered_in_m2\n",
    "df_filtered.at[wrong_surface_rows.index, 'surface_covered_in_m2'] = wrong_surface_rows.surface_total_in_m2"
   ]
  },
  {
   "cell_type": "markdown",
   "metadata": {},
   "source": [
    "Por otro lado, sucede que las inmobiliarias cuando no cuentan con las coordenadas reales de las propiedades utilizan valores que no son correctos. Por ejemplo, el punto centro de cada barrio o puntos de interés como el Obelisco. Esto puede afectar el análisis relacionado con la ubicación de cada propiedad.\n",
    "\n",
    "Veamos en primer lugar si hay coordenadas que se repiten."
   ]
  },
  {
   "cell_type": "code",
   "execution_count": 13,
   "metadata": {},
   "outputs": [
    {
     "data": {
      "text/plain": [
       "lat         lon       \n",
       "-34.589546  -58.397364    149\n",
       "-34.571150  -58.423297    118\n",
       "-34.562084  -58.456686     77\n",
       "-34.620928  -58.445874     45\n",
       "-34.609821  -58.392606     36\n",
       "-34.597679  -58.443019     31\n",
       "-34.617719  -58.362056     31\n",
       "-34.621184  -58.373116     31\n",
       "-34.610122  -58.405941     31\n",
       "-34.598647  -58.439018     29\n",
       "dtype: int64"
      ]
     },
     "execution_count": 13,
     "metadata": {},
     "output_type": "execute_result"
    }
   ],
   "source": [
    "conteo_puntos = df_filtered.groupby(['lat', 'lon']).size()\n",
    "conteo_puntos[conteo_puntos > 1].sort_values(ascending=False).head(10)"
   ]
  },
  {
   "cell_type": "markdown",
   "metadata": {},
   "source": [
    "Por ejemplo, para el caso del tercer punto, se puede verificar que corresponde a la esquina de Av. Cabildo y Juramento.\n",
    "Nos quedamos entonces con las propiedades con coordenadas que se repitan hasta 5 veces."
   ]
  },
  {
   "cell_type": "code",
   "execution_count": 14,
   "metadata": {},
   "outputs": [],
   "source": [
    "conteo_puntos.name = 'conteo'\n",
    "\n",
    "df_filtered = df_filtered.join(conteo_puntos, on=['lat', 'lon'])\n",
    "\n",
    "df_filtered = df_filtered[df_filtered.conteo <= 5]"
   ]
  },
  {
   "cell_type": "markdown",
   "metadata": {},
   "source": [
    "Eliminamos el atributo `conteo` dado que ya no nos sirve."
   ]
  },
  {
   "cell_type": "code",
   "execution_count": 15,
   "metadata": {},
   "outputs": [],
   "source": [
    "df_filtered.drop('conteo', inplace=True, axis=1)"
   ]
  },
  {
   "cell_type": "markdown",
   "metadata": {},
   "source": [
    "## Estudiando los barrios"
   ]
  },
  {
   "cell_type": "markdown",
   "metadata": {},
   "source": [
    "### Barrios con más edificios y barrios con más casas\n",
    "Al saber qué barrios son los que tienen más cantidad de edificios en venta y cuáles son los que tienen más casas podemos darnos una idea de qué tipo de barrio es. Si es más residencial, con más población, poder adquisitivo, etc. \n",
    "Para eso vamos a empezar calculando los porcentajes de cada tipo de propiedad según el barrio."
   ]
  },
  {
   "cell_type": "code",
   "execution_count": 16,
   "metadata": {},
   "outputs": [],
   "source": [
    "total_propiedades = df_filtered.groupby('barrio')['property_type'].count().values"
   ]
  },
  {
   "cell_type": "code",
   "execution_count": 17,
   "metadata": {},
   "outputs": [],
   "source": [
    "porcentaje_casas_ph = df_filtered[df_filtered.property_type.isin(['PH', 'house'])].groupby('barrio').count().property_type/total_propiedades\n",
    "porcentaje_edificios = df_filtered[df_filtered.property_type == 'apartment'].groupby('barrio').count().property_type/total_propiedades"
   ]
  },
  {
   "cell_type": "code",
   "execution_count": 18,
   "metadata": {},
   "outputs": [
    {
     "name": "stdout",
     "output_type": "stream",
     "text": [
      "Barrios con mayor porcentaje de edificios: \n",
      " barrio\n",
      "PUERTO MADERO    0.995238\n",
      "RETIRO           0.992647\n",
      "SAN NICOLAS      0.989011\n",
      "RECOLETA         0.987342\n",
      "BELGRANO         0.952446\n",
      "Name: property_type, dtype: float64\n",
      "Barrios con mayor porcentaje de casas y phs: \n",
      "  barrio\n",
      "VERSALLES            0.622222\n",
      "MATADEROS            0.612500\n",
      "PARQUE AVELLANEDA    0.560606\n",
      "VILLA RIACHUELO      0.555556\n",
      "VILLA REAL           0.500000\n",
      "Name: property_type, dtype: float64\n"
     ]
    }
   ],
   "source": [
    "print(\"Barrios con mayor porcentaje de edificios: \\n\", porcentaje_edificios.sort_values()[::-1][:5])\n",
    "print(\"Barrios con mayor porcentaje de casas y phs: \\n \", porcentaje_casas_ph.sort_values()[::-1][:5])"
   ]
  },
  {
   "cell_type": "markdown",
   "metadata": {},
   "source": [
    "Para darnos una idea de las diferencias entre los porcentajes de edificios y casas en estos barrios, vamos a graficarlos\n",
    "en forma de torta."
   ]
  },
  {
   "cell_type": "code",
   "execution_count": 19,
   "metadata": {},
   "outputs": [
    {
     "data": {
      "text/plain": [
       "<matplotlib.axes._subplots.AxesSubplot at 0xa655860>"
      ]
     },
     "execution_count": 19,
     "metadata": {},
     "output_type": "execute_result"
    },
    {
     "data": {
      "image/png": "[encoded data removed]",
      "text/plain": [
       "<Figure size 1008x504 with 2 Axes>"
      ]
     },
     "metadata": {},
     "output_type": "display_data"
    }
   ],
   "source": [
    "barrios_casas = porcentaje_casas_ph.sort_values()[::-1][:5].index\n",
    "barrios_edificios = porcentaje_edificios.sort_values()[::-1][:5].index\n",
    "fig, axs = plt.subplots(1,2,figsize=(14,7))\n",
    "df_filtered[df_filtered.barrio.isin(barrios_edificios)].property_type.value_counts().plot(x=None,y=None, kind='pie', startangle=30, ax=axs[0],autopct='%1.2f%%')\n",
    "df_filtered[df_filtered.barrio.isin(barrios_casas)].property_type.value_counts().plot(x=None,y=None, kind='pie', ax=axs[1],autopct='%1.2f%%')"
   ]
  },
  {
   "cell_type": "markdown",
   "metadata": {},
   "source": [
    "### Barrios más caros y más baratos"
   ]
  },
  {
   "cell_type": "markdown",
   "metadata": {},
   "source": [
    "Veamos primero la distribución del precio por metro cuadrado para todo el dataset. De esta manera, vamos a remover valores que consideremos extremos.\n",
    "\n",
    "En el siguiente proyecto vamos a volver sobre este tema con más profundidad.\n",
    "\n",
    "**10)** Tomando el atributo `price_usd_per_m2` **calculá** su **mínimo**, **máximo**, **promedio (mean)**, **mediana (median)** y **desvío estándar (std)**"
   ]
  },
  {
   "cell_type": "code",
   "execution_count": 20,
   "metadata": {},
   "outputs": [
    {
     "name": "stdout",
     "output_type": "stream",
     "text": [
      "Mínimo: 0.9583333333333334\n",
      "Máximo: 142450.14102564106\n",
      "Promedio: 2785.6551438537067\n",
      "Mediana: 2588.2352941176473\n",
      "Desvío Estandar: 1997.7721743224924\n"
     ]
    }
   ],
   "source": [
    "# Mostrá en esta celda los cálculos\n",
    "print('Mínimo:',df_filtered.price_usd_per_m2.min())\n",
    "print('Máximo:',df_filtered.price_usd_per_m2.max())\n",
    "print('Promedio:',df_filtered.price_usd_per_m2.mean())\n",
    "print('Mediana:',df_filtered.price_usd_per_m2.median())\n",
    "print('Desvío Estandar:',df_filtered.price_usd_per_m2.std())"
   ]
  },
  {
   "cell_type": "markdown",
   "metadata": {},
   "source": [
    "También podemos calcular otros estadísticos como los cuartiles. \n",
    "\n",
    "**11) Mostrá** el **primer y tercer cuartil** y luego también el **rango intercuartilíco**"
   ]
  },
  {
   "cell_type": "code",
   "execution_count": 21,
   "metadata": {},
   "outputs": [
    {
     "name": "stdout",
     "output_type": "stream",
     "text": [
      "Primer cuartil: 1294.5968137254904\n",
      "Tercer cuartil: 72519.18815987936\n",
      "Rango intercuartilíco: 71224.59134615386\n"
     ]
    }
   ],
   "source": [
    "# Mostrá los cuartiles en esta celda\n",
    "q1 = (df_filtered.price_usd_per_m2.min() + df_filtered.price_usd_per_m2.median()) / 2\n",
    "q3 = (df_filtered.price_usd_per_m2.max() + df_filtered.price_usd_per_m2.median()) / 2\n",
    "print ('Primer cuartil:',q1)\n",
    "print ('Tercer cuartil:',q3)\n",
    "print ('Rango intercuartilíco:',q3-q1)\n"
   ]
  },
  {
   "cell_type": "markdown",
   "metadata": {},
   "source": [
    "### Quitando valores extremos\n",
    "Eliminemos aquellas observaciones cuyo precio por metro cuadrado este fuera de los percentiles 10 y 90. De este modo intentaremos remover valores extremos de una manera sencilla para tener un análisis más robusto."
   ]
  },
  {
   "cell_type": "code",
   "execution_count": 22,
   "metadata": {},
   "outputs": [],
   "source": [
    "p10 = np.percentile(df_filtered.price_usd_per_m2, 10)\n",
    "p90 = np.percentile(df_filtered.price_usd_per_m2, 90)\n",
    "df_filtered = df_filtered[(df_filtered.price_usd_per_m2 >= p10) & (df_filtered.price_usd_per_m2 <= p90)]"
   ]
  },
  {
   "cell_type": "markdown",
   "metadata": {},
   "source": [
    "A partir de quitar estos valores van a cambiar los estadísticos que calculamos.\n",
    "\n",
    "**12) Volvé a calcular** los mismos estadísticos (min, max, promedio, etc) para ver los cambios.\n",
    "¿Por qué será que la **mediana** no cambia?"
   ]
  },
  {
   "cell_type": "code",
   "execution_count": 23,
   "metadata": {},
   "outputs": [
    {
     "name": "stdout",
     "output_type": "stream",
     "text": [
      "Mínimo: 1552.9411764705883\n",
      "Máximo: 4095.890410958904\n",
      "Promedio: 2632.2125686918466\n",
      "Mediana: 2588.2352941176473\n",
      "Desvío Estandar: 607.7151385906491\n",
      "LA MEDIANA NO SUFRE CAMBIOS SIGNIFICATIVOS PORQUE SE LE EXTRAJERON 10% DE CADA\n",
      "EXTREMO A LA MUESTRA, MANTENIENDOSE LA MEDIANA INALTERADA\n"
     ]
    }
   ],
   "source": [
    "# Realizá los calculos en esta celda\n",
    "print('Mínimo:',df_filtered.price_usd_per_m2.min())\n",
    "print('Máximo:',df_filtered.price_usd_per_m2.max())\n",
    "print('Promedio:',df_filtered.price_usd_per_m2.mean())\n",
    "print('Mediana:',df_filtered.price_usd_per_m2.median())\n",
    "print('Desvío Estandar:',df_filtered.price_usd_per_m2.std())\n",
    "print('LA MEDIANA NO SUFRE CAMBIOS SIGNIFICATIVOS PORQUE SE LE EXTRAJERON 10% DE CADA')\n",
    "print('EXTREMO A LA MUESTRA, MANTENIENDOSE LA MEDIANA INALTERADA')"
   ]
  },
  {
   "cell_type": "markdown",
   "metadata": {},
   "source": [
    "Vamos a graficar ahora los barrios según el precio por metro cuadrado."
   ]
  },
  {
   "cell_type": "code",
   "execution_count": 24,
   "metadata": {},
   "outputs": [
    {
     "name": "stderr",
     "output_type": "stream",
     "text": [
      "C:\\Users\\jlaino\\AppData\\Local\\Continuum\\anaconda\\lib\\site-packages\\scipy\\stats\\stats.py:1713: FutureWarning: Using a non-tuple sequence for multidimensional indexing is deprecated; use `arr[tuple(seq)]` instead of `arr[seq]`. In the future this will be interpreted as an array index, `arr[np.array(seq)]`, which will result either in an error or a different result.\n",
      "  return np.add.reduce(sorted[indexer] * weights, axis=axis) / sumval\n"
     ]
    },
    {
     "data": {
      "image/png": "[encoded data removed]",
      "text/plain": [
       "<Figure size 864x576 with 1 Axes>"
      ]
     },
     "metadata": {},
     "output_type": "display_data"
    }
   ],
   "source": [
    "plt.xticks(rotation = 90)\n",
    "barrios = df_filtered.groupby('barrio').mean().sort_values('price_usd_per_m2', ascending=False).index\n",
    "sns.barplot(x=\"barrio\", y=\"price_usd_per_m2\", order=barrios, data=df_filtered);"
   ]
  },
  {
   "cell_type": "markdown",
   "metadata": {},
   "source": [
    "#### Más caros"
   ]
  },
  {
   "cell_type": "code",
   "execution_count": 25,
   "metadata": {},
   "outputs": [
    {
     "data": {
      "text/html": [
       "<div>\n",
       "<style scoped>\n",
       "    .dataframe tbody tr th:only-of-type {\n",
       "        vertical-align: middle;\n",
       "    }\n",
       "\n",
       "    .dataframe tbody tr th {\n",
       "        vertical-align: top;\n",
       "    }\n",
       "\n",
       "    .dataframe thead th {\n",
       "        text-align: right;\n",
       "    }\n",
       "</style>\n",
       "<table border=\"1\" class=\"dataframe\">\n",
       "  <thead>\n",
       "    <tr style=\"text-align: right;\">\n",
       "      <th></th>\n",
       "      <th>price_usd_per_m2</th>\n",
       "    </tr>\n",
       "    <tr>\n",
       "      <th>barrio</th>\n",
       "      <th></th>\n",
       "    </tr>\n",
       "  </thead>\n",
       "  <tbody>\n",
       "    <tr>\n",
       "      <th>PUERTO MADERO</th>\n",
       "      <td>6156.633183</td>\n",
       "    </tr>\n",
       "    <tr>\n",
       "      <th>PALERMO</th>\n",
       "      <td>3632.057960</td>\n",
       "    </tr>\n",
       "    <tr>\n",
       "      <th>RETIRO</th>\n",
       "      <td>3417.635657</td>\n",
       "    </tr>\n",
       "    <tr>\n",
       "      <th>RECOLETA</th>\n",
       "      <td>3346.748987</td>\n",
       "    </tr>\n",
       "    <tr>\n",
       "      <th>BELGRANO</th>\n",
       "      <td>3338.725206</td>\n",
       "    </tr>\n",
       "  </tbody>\n",
       "</table>\n",
       "</div>"
      ],
      "text/plain": [
       "               price_usd_per_m2\n",
       "barrio                         \n",
       "PUERTO MADERO       6156.633183\n",
       "PALERMO             3632.057960\n",
       "RETIRO              3417.635657\n",
       "RECOLETA            3346.748987\n",
       "BELGRANO            3338.725206"
      ]
     },
     "execution_count": 25,
     "metadata": {},
     "output_type": "execute_result"
    }
   ],
   "source": [
    "table = pd.pivot_table(df, values='price_usd_per_m2', index=['barrio'], aggfunc=np.mean)\n",
    "mas_caros = table.sort_values('price_usd_per_m2', ascending=False).iloc[:5]\n",
    "mas_caros"
   ]
  },
  {
   "cell_type": "markdown",
   "metadata": {},
   "source": [
    "#### Más baratos"
   ]
  },
  {
   "cell_type": "code",
   "execution_count": 26,
   "metadata": {},
   "outputs": [
    {
     "data": {
      "text/html": [
       "<div>\n",
       "<style scoped>\n",
       "    .dataframe tbody tr th:only-of-type {\n",
       "        vertical-align: middle;\n",
       "    }\n",
       "\n",
       "    .dataframe tbody tr th {\n",
       "        vertical-align: top;\n",
       "    }\n",
       "\n",
       "    .dataframe thead th {\n",
       "        text-align: right;\n",
       "    }\n",
       "</style>\n",
       "<table border=\"1\" class=\"dataframe\">\n",
       "  <thead>\n",
       "    <tr style=\"text-align: right;\">\n",
       "      <th></th>\n",
       "      <th>price_usd_per_m2</th>\n",
       "    </tr>\n",
       "    <tr>\n",
       "      <th>barrio</th>\n",
       "      <th></th>\n",
       "    </tr>\n",
       "  </thead>\n",
       "  <tbody>\n",
       "    <tr>\n",
       "      <th>VILLA SOLDATI</th>\n",
       "      <td>920.825753</td>\n",
       "    </tr>\n",
       "    <tr>\n",
       "      <th>VILLA LUGANO</th>\n",
       "      <td>1179.846071</td>\n",
       "    </tr>\n",
       "    <tr>\n",
       "      <th>VILLA RIACHUELO</th>\n",
       "      <td>1274.809950</td>\n",
       "    </tr>\n",
       "    <tr>\n",
       "      <th>PARQUE AVELLANEDA</th>\n",
       "      <td>1386.260577</td>\n",
       "    </tr>\n",
       "    <tr>\n",
       "      <th>NUEVA POMPEYA</th>\n",
       "      <td>1539.235869</td>\n",
       "    </tr>\n",
       "  </tbody>\n",
       "</table>\n",
       "</div>"
      ],
      "text/plain": [
       "                   price_usd_per_m2\n",
       "barrio                             \n",
       "VILLA SOLDATI            920.825753\n",
       "VILLA LUGANO            1179.846071\n",
       "VILLA RIACHUELO         1274.809950\n",
       "PARQUE AVELLANEDA       1386.260577\n",
       "NUEVA POMPEYA           1539.235869"
      ]
     },
     "execution_count": 26,
     "metadata": {},
     "output_type": "execute_result"
    }
   ],
   "source": [
    "table = pd.pivot_table(df, values='price_usd_per_m2', index=['barrio'], aggfunc=np.mean)\n",
    "mas_baratos = table.sort_values('price_usd_per_m2', ascending=True).iloc[:5]\n",
    "mas_baratos"
   ]
  },
  {
   "cell_type": "markdown",
   "metadata": {},
   "source": [
    "## Graficando propiedades de los barrios\n",
    "\n",
    "Ahora que ya sabemos cuales son los barrios más caros y cuales son los más baratos vamos a ver algunas comparaciones gráficas para entender mejor sus diferencias en diferentes atributos del dataset. Vamos a ver las distribuciones según:\n",
    "- Superficie total en m2\n",
    "- Cuartos totales \n",
    "- Precio en dolares por m2"
   ]
  },
  {
   "cell_type": "code",
   "execution_count": 27,
   "metadata": {},
   "outputs": [],
   "source": [
    "barrios_caros = mas_caros.index \n",
    "barrios_baratos = mas_baratos.index"
   ]
  },
  {
   "cell_type": "code",
   "execution_count": 28,
   "metadata": {},
   "outputs": [
    {
     "data": {
      "text/plain": [
       "<matplotlib.legend.Legend at 0xb0f72b0>"
      ]
     },
     "execution_count": 28,
     "metadata": {},
     "output_type": "execute_result"
    },
    {
     "data": {
      "image/png": "[encoded data removed]",
      "text/plain": [
       "<Figure size 864x576 with 1 Axes>"
      ]
     },
     "metadata": {},
     "output_type": "display_data"
    }
   ],
   "source": [
    "g = sns.distplot(df_filtered[df_filtered.barrio.isin(barrios_baratos)].surface_total_in_m2, label=\"Barrios baratos\")\n",
    "sns.distplot(df_filtered[df_filtered.barrio.isin(barrios_caros)].surface_total_in_m2, label=\"Barrios caros\")\n",
    "g.set_xlim(0, 400)\n",
    "plt.legend()"
   ]
  },
  {
   "cell_type": "code",
   "execution_count": 29,
   "metadata": {},
   "outputs": [
    {
     "data": {
      "image/png": "[encoded data removed]",
      "text/plain": [
       "<Figure size 864x576 with 1 Axes>"
      ]
     },
     "metadata": {},
     "output_type": "display_data"
    }
   ],
   "source": [
    "g = sns.distplot(df_filtered[df_filtered.barrio.isin(barrios_baratos)].rooms, label=\"Barrios baratos\")\n",
    "sns.distplot(df_filtered[df_filtered.barrio.isin(barrios_caros)].rooms, label=\"Barrios caros\")\n",
    "g.set_xlim(0, 10)\n",
    "plt.legend();"
   ]
  },
  {
   "cell_type": "code",
   "execution_count": 30,
   "metadata": {},
   "outputs": [
    {
     "data": {
      "image/png": "[encoded data removed]",
      "text/plain": [
       "<Figure size 864x576 with 1 Axes>"
      ]
     },
     "metadata": {},
     "output_type": "display_data"
    }
   ],
   "source": [
    "g = sns.distplot(df_filtered[df_filtered.barrio.isin(barrios_baratos)].price_usd_per_m2, label=\"Barrios baratos\")\n",
    "sns.distplot(df_filtered[df_filtered.barrio.isin(barrios_caros)].price_usd_per_m2, label=\"Barrios caros\")\n",
    "plt.legend();"
   ]
  },
  {
   "cell_type": "markdown",
   "metadata": {},
   "source": [
    "### Barrios que quieren ser otros"
   ]
  },
  {
   "cell_type": "markdown",
   "metadata": {},
   "source": [
    "Basado en información de mercado, desde el portal Properati han señalado que las inmobiliarias suelen publicar las propiedades ubicadas en barrios que no necesariamente se corresponden con la ubicación geográfica real. Según mencionan en la nota ([blog)](http://blog.properati.com.ar/barrios-que-quieren-ser-otros/), esto corresponde a una lógica comercial en el corredor norte y a usos y costumbres en zona oeste.\n",
    "\n",
    "Analicemos qué sucede para nuestro dataset."
   ]
  },
  {
   "cell_type": "markdown",
   "metadata": {},
   "source": [
    "Dada la estructura del atributo `place_with_parent_names`, en primer lugar vamos a extraer el campo asociado al barrio publicado para poder comparar con el que surge de la cartografía oficial. Esto lo vamos a agregar en una nueva columna llamada `barrio_publicado`. \n",
    "\n",
    "De este modo, lo que vamos a analizar es como se relacionan las columnas `barrio` y `barrio publicado`. Si efectivamente hay barrios que quieren ser otros, esperaríamos ver propiedades ubicadas en geográficamente en un barrio distinto al que dice la publicación. Por ejemplo, si una propiedad está ubicada (dadas sus coordenadas) en Villa Crespo pero en la publicación dice Palermo, entonces decimos que hay indicios que Villa Crespo quiere ser Palermo.\n",
    "\n",
    "Viendo la estructura de este atributo, podemos notar que se compone por una sequencia de lugares separados por `|`. Por ejemplo, en `|Argentina|Capital Federal|Palermo|` vemos que primero está el país, luego la ciudad, luego el barrio y en algunos casos hay una jerarquía más, relacionado con zonas dentro del barrio (como Palermo Soho dentro de Palermo). \n",
    "\n",
    "De este modo, una estrategia posible para resolver esto es separar las jerarquías por `|` y extraer el elemento asociado al barrio. Por ejemplo, para `|Argentina|Capital Federal|Palermo|` queda `['', 'Argentina', 'Capital Federal', 'Palermo', '']`. Extrayendo el tercer elemento obtendremos el barrio independientemente de si hay lugares luego en la jerarquía. Aquellos que no tengan barrio no serán considerados puesto que estarían ubicados en Capital Federal y no sería informativo.\n",
    "\n",
    "Lo pasamos a mayúsculas y quitamos las tildes para poder comparar con el barrio oficial."
   ]
  },
  {
   "cell_type": "code",
   "execution_count": 31,
   "metadata": {},
   "outputs": [
    {
     "data": {
      "text/plain": [
       "array([5, 6, 4], dtype=int64)"
      ]
     },
     "execution_count": 31,
     "metadata": {},
     "output_type": "execute_result"
    }
   ],
   "source": [
    "df_filtered['place_with_parent_names'].apply(lambda x: len(x.split(\"|\"))).unique()"
   ]
  },
  {
   "cell_type": "markdown",
   "metadata": {},
   "source": [
    "Como algunos tienen 4 elementos, debemos quitarlos."
   ]
  },
  {
   "cell_type": "code",
   "execution_count": 32,
   "metadata": {},
   "outputs": [],
   "source": [
    "split_place_filter = df_filtered['place_with_parent_names'].apply(lambda x: len(x.split(\"|\"))!=4)\n",
    "df_filtered = df_filtered.loc[split_place_filter]"
   ]
  },
  {
   "cell_type": "code",
   "execution_count": 33,
   "metadata": {},
   "outputs": [],
   "source": [
    "df_filtered['barrio_publicado'] = df_filtered['place_with_parent_names'].apply( lambda x: x.split(\"|\")[3].upper())\n",
    "df_filtered['barrio_publicado'] = df_filtered['barrio_publicado'].str.normalize('NFKD').str.encode('ascii', errors='ignore').str.decode('utf-8')"
   ]
  },
  {
   "cell_type": "markdown",
   "metadata": {},
   "source": [
    "Comparemos entonces el barrio publicado con el real. Nos vamos a quedar con aquellas propiedades donde nos coincidan para luego hacer el conteo por barrio."
   ]
  },
  {
   "cell_type": "code",
   "execution_count": 34,
   "metadata": {},
   "outputs": [],
   "source": [
    "barrios_match = (df_filtered['barrio_publicado'] != df_filtered['barrio'])\n",
    "df_filtered_barrio_not_match = df_filtered.loc[barrios_match]"
   ]
  },
  {
   "cell_type": "markdown",
   "metadata": {},
   "source": [
    "Con una tabla de doble entrada podemos identificar para cada barrio cuál es al que más quiere parecerse."
   ]
  },
  {
   "cell_type": "code",
   "execution_count": 35,
   "metadata": {},
   "outputs": [
    {
     "data": {
      "text/plain": [
       "barrio\n",
       "AGRONOMIA                VILLA PUEYRREDON\n",
       "ALMAGRO                         CABALLITO\n",
       "BALVANERA                            ONCE\n",
       "BARRACAS                        SAN TELMO\n",
       "BELGRANO                            NUNEZ\n",
       "BOCA                             BARRACAS\n",
       "BOEDO                             ALMAGRO\n",
       "CABALLITO               PARQUE CENTENARIO\n",
       "CHACARITA                      COLEGIALES\n",
       "COGHLAN                          BELGRANO\n",
       "COLEGIALES                       BELGRANO\n",
       "CONSTITUCION                    SAN TELMO\n",
       "FLORES                          CABALLITO\n",
       "FLORESTA                           FLORES\n",
       "LINIERS                         VERSALLES\n",
       "MATADEROS                      VILLA LURO\n",
       "MONSERRAT                       SAN TELMO\n",
       "MONTE CASTRO                 VILLA DEVOTO\n",
       "NUEVA POMPEYA            PARQUE PATRICIOS\n",
       "NUEZ                                NUNEZ\n",
       "PALERMO                          BELGRANO\n",
       "PARQUE AVELLANEDA                FLORESTA\n",
       "PARQUE CHACABUCO                CABALLITO\n",
       "PARQUE CHAS                 VILLA URQUIZA\n",
       "PARQUE PATRICIOS                    BOEDO\n",
       "PATERNAL                        AGRONOMIA\n",
       "RECOLETA                     BARRIO NORTE\n",
       "RETIRO                           RECOLETA\n",
       "SAAVEDRA                            NUNEZ\n",
       "SAN CRISTOBAL                       BOEDO\n",
       "SAN NICOLAS          CENTRO / MICROCENTRO\n",
       "SAN TELMO                        BARRACAS\n",
       "VELEZ SARSFIELD                  FLORESTA\n",
       "VILLA CRESPO                      PALERMO\n",
       "VILLA DEL PARQUE             VILLA DEVOTO\n",
       "VILLA DEVOTO             VILLA PUEYRREDON\n",
       "VILLA GRAL. MITRE     VILLA GENERAL MITRE\n",
       "VILLA LURO                      VERSALLES\n",
       "VILLA ORTUZAR               VILLA URQUIZA\n",
       "VILLA PUEYRREDON             VILLA DEVOTO\n",
       "VILLA REAL                      VERSALLES\n",
       "VILLA RIACHUELO              VILLA LUGANO\n",
       "VILLA SANTA RITA         VILLA DEL PARQUE\n",
       "VILLA SOLDATI                VILLA LUGANO\n",
       "VILLA URQUIZA                    BELGRANO\n",
       "dtype: object"
      ]
     },
     "execution_count": 35,
     "metadata": {},
     "output_type": "execute_result"
    }
   ],
   "source": [
    "table = pd.crosstab(df_filtered_barrio_not_match.barrio, df_filtered_barrio_not_match.barrio_publicado)\n",
    "table.idxmax(axis=1)"
   ]
  },
  {
   "cell_type": "markdown",
   "metadata": {},
   "source": [
    "Podemos ver entonces que los barrios tienden a querer parecerse a barrios con precio con metro cuadrado más caro. Por ejemplo Villa Crespo con Palermo, Constitución con San Telmo y Villa Urquiza con Belgrano. \n",
    "\n",
    "Por otro lado, vemos también que los barrios suelen querer parecerse a sus barrios vecinos."
   ]
  }
 ],
 "metadata": {
  "kernelspec": {
   "display_name": "Python 3",
   "language": "python",
   "name": "python3"
  },
  "language_info": {
   "codemirror_mode": {
    "name": "ipython",
    "version": 3
   },
   "file_extension": ".py",
   "mimetype": "text/x-python",
   "name": "python",
   "nbconvert_exporter": "python",
   "pygments_lexer": "ipython3",
   "version": "3.6.8"
  }
 },
 "nbformat": 4,
 "nbformat_minor": 2
}
