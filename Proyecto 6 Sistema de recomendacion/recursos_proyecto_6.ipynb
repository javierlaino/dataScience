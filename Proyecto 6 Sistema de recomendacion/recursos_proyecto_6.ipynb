{
 "cells": [
  {
   "cell_type": "markdown",
   "metadata": {},
   "source": [
    "# Proyecto 6: Sistemas de recomendación"
   ]
  },
  {
   "cell_type": "markdown",
   "metadata": {},
   "source": [
    "## Dataset"
   ]
  },
  {
   "cell_type": "markdown",
   "metadata": {},
   "source": [
    "El dataset que vamos a usar en este proyecto es el del proyecto [MovieLens](http://grouplens.org/datasets/movielens/). Estos son relevados por el grupo de investigación GroupLens de la Universidad de Minnesota. Vamos a usar la versión 100K."
   ]
  },
  {
   "cell_type": "markdown",
   "metadata": {},
   "source": [
    "Está basado en un sistema de rating de 5 estrellas y texto libre para tags a partir del servicio de recomendaciones MovieLens. Contiene 100.000 ratings para 1.682 películas. Los datos fueron creados por 943 usuarios."
   ]
  },
  {
   "cell_type": "markdown",
   "metadata": {},
   "source": [
    "En el [Readme](http://files.grouplens.org/datasets/movielens/ml-100k-README.txt) del dataset se puede encontrar información adicional. A continuación vamos a describir cada uno de ellos."
   ]
  },
  {
   "cell_type": "markdown",
   "metadata": {},
   "source": [
    "### Ratings (u.data)\n",
    "\n",
    "Cada línea representa el rating para una película para un usuario. Los ratings están basados en un sistema de 5 estrellas, con una salto de 0.5 estrellas. Los timestamps están expresados en segundos desde la medianoche de 01/1970 (UTC). El formato es:\n",
    "\n",
    "`user id | item id | rating | timestamp`"
   ]
  },
  {
   "cell_type": "markdown",
   "metadata": {},
   "source": [
    "### Usuarios (u.users)\n",
    "\n",
    "Cada línea del archivo representa un usuario. Se incluye información demográfica. El formato es:\n",
    "\n",
    "`user id | age | gender | occupation | zip code`"
   ]
  },
  {
   "cell_type": "markdown",
   "metadata": {},
   "source": [
    "### Películas (u.item)\n",
    "\n",
    "Cada línea corresponde a una película. Puede haber inconsistencias en los nombres. El formato es:\n",
    "\n",
    "`movie id | movie title | release date | video release date | IMDb URL | generos`\n",
    "\n",
    "\n",
    "\n",
    "Las columnas con los generos son binarias indicando la presencia o ausencia de cada uno en la película. Los géneros pueden ser:\n",
    "\n",
    "* Action\n",
    "* Adventure\n",
    "* Animation\n",
    "* Children's\n",
    "* Comedy\n",
    "* Crime\n",
    "* Documentary\n",
    "* Drama\n",
    "* Fantasy\n",
    "* Film-Noir\n",
    "* Horror\n",
    "* Musical\n",
    "* Mystery\n",
    "* Romance\n",
    "* Sci-Fi\n",
    "* Thriller\n",
    "* War\n",
    "* Western\n",
    "* unknown"
   ]
  },
  {
   "cell_type": "markdown",
   "metadata": {},
   "source": [
    "## Experimentación"
   ]
  },
  {
   "cell_type": "markdown",
   "metadata": {},
   "source": [
    "Durante todo este proyecto vamos a utilizar la librería `surprise` para llevar a cabo las experimentaciones.\n",
    "\n",
    "Como se mencionó en clase, las implementaciones en esta librería tiene algunas mejoras respecto de las estrategias convencionales como SVD. Esto se traduce en una mayor cantidad de parámetros para optimizar."
   ]
  },
  {
   "cell_type": "markdown",
   "metadata": {},
   "source": [
    "Vamos a levantar los datos. En primer lugar, definamos el formato para poder leer los datos.\n",
    "\n",
    "**1) Utilizar** el `Reader` con el parámetro `line_format` igual a `'user item rating timestamp'` y `sep` como `'\\t'`. Guardarlo en una variable `reader`."
   ]
  },
  {
   "cell_type": "code",
   "execution_count": 2,
   "metadata": {},
   "outputs": [],
   "source": [
    "from surprise import Dataset\n",
    "from surprise import Reader\n",
    "import pandas as pd\n",
    "import numpy as np"
   ]
  },
  {
   "cell_type": "code",
   "execution_count": 3,
   "metadata": {},
   "outputs": [],
   "source": [
    "reader = Reader(line_format = 'user item rating timestamp', sep = '\\t')"
   ]
  },
  {
   "cell_type": "markdown",
   "metadata": {},
   "source": [
    "Utilizando este `reader` cargar los datos:"
   ]
  },
  {
   "cell_type": "code",
   "execution_count": 4,
   "metadata": {},
   "outputs": [],
   "source": [
    "data = Dataset.load_from_file('./dataset/ml-100k/u.data', reader=reader)"
   ]
  },
  {
   "cell_type": "markdown",
   "metadata": {},
   "source": [
    "__2) Ejecutar una corrida inicial usando cross validation y el algoritmo SVD (5 folds). Imprimir los RMSE de testing.__"
   ]
  },
  {
   "cell_type": "code",
   "execution_count": 5,
   "metadata": {},
   "outputs": [
    {
     "name": "stdout",
     "output_type": "stream",
     "text": [
      "Evaluating RMSE of algorithm SVD on 5 split(s).\n",
      "\n",
      "                  Fold 1  Fold 2  Fold 3  Fold 4  Fold 5  Mean    Std     \n",
      "RMSE (testset)    0.9309  0.9430  0.9384  0.9282  0.9352  0.9351  0.0053  \n",
      "Fit time          9.75    9.75    9.87    9.40    9.07    9.57    0.30    \n",
      "Test time         0.34    0.31    0.31    0.32    0.37    0.33    0.03    \n"
     ]
    }
   ],
   "source": [
    "from surprise import SVD\n",
    "from surprise.model_selection import cross_validate\n",
    "\n",
    "svdb = SVD()\n",
    "cv = cross_validate(svdb, data, measures=['RMSE'], cv=5, verbose=True)"
   ]
  },
  {
   "cell_type": "markdown",
   "metadata": {},
   "source": [
    "__3) Evaluar el RMSE (promedio de cross validation) de testing de acuerdo a la cantidad de factores en SVD.__"
   ]
  },
  {
   "cell_type": "code",
   "execution_count": 16,
   "metadata": {},
   "outputs": [],
   "source": [
    "rmse_test_means = []\n",
    "\n",
    "factors = [100,500,1000,2000,3000]\n",
    "for factor in factors:\n",
    "    svd = SVD(n_factors=factor)\n",
    "    cv = cross_validate(svd, data, measures=['RMSE'],  cv=5, verbose=False)\n",
    "    rmse_test_means.append(np.mean(cv['test_rmse']))"
   ]
  },
  {
   "cell_type": "markdown",
   "metadata": {},
   "source": [
    "__4) Graficar los promedios RMSE del conjunto de testing de acuerdo a la cantidad de factores en SVD.__"
   ]
  },
  {
   "cell_type": "code",
   "execution_count": 21,
   "metadata": {},
   "outputs": [
    {
     "data": {
      "image/png": "[encoded data removed]",
      "text/plain": [
       "<Figure size 432x288 with 1 Axes>"
      ]
     },
     "metadata": {
      "needs_background": "light"
     },
     "output_type": "display_data"
    }
   ],
   "source": [
    "import matplotlib.pyplot as plt\n",
    "%matplotlib inline\n",
    "plt.plot(factors, rmse_test_means, label='RMSE Testing')\n",
    "plt.ylim((0.92, 1.15))\n",
    "plt.legend(loc=\"best\")\n",
    "plt.title(\"RMSE para algoritmo SVD según cantidad de factores.\")\n",
    "plt.show()"
   ]
  },
  {
   "cell_type": "markdown",
   "metadata": {},
   "source": [
    "__5) Usando GridSearch, encontrar el mejor estimador usando SVD con 500 factores. Imprimir el mejor rmse. Utilizar `refit` para obtener obtener el mejor estimador ya ajustado como resultado.__\n",
    "\n",
    "Utilizar el espacio de parámetros:\n",
    "* n_epochs: [5, 10]\n",
    "* lr_all: [0.002, 0.005]\n",
    "* reg_all: [0.4, 0.6]\n"
   ]
  },
  {
   "cell_type": "code",
   "execution_count": 6,
   "metadata": {},
   "outputs": [],
   "source": [
    "from surprise.model_selection import GridSearchCV\n",
    "\n",
    "param_grid = {'n_epochs': [5, 10], 'lr_all': [0.002, 0.005],\n",
    "              'reg_all': [0.4, 0.6], 'n_factors': [500]}\n",
    "\n",
    "gs = GridSearchCV(SVD, param_grid, measures=['rmse'], cv=5, refit=True)\n",
    "\n",
    "gs.fit(data)"
   ]
  },
  {
   "cell_type": "code",
   "execution_count": 7,
   "metadata": {},
   "outputs": [
    {
     "name": "stdout",
     "output_type": "stream",
     "text": [
      "{'n_epochs': 10, 'lr_all': 0.005, 'reg_all': 0.4, 'n_factors': 500}\n"
     ]
    }
   ],
   "source": [
    "print(gs.best_params['rmse'])"
   ]
  },
  {
   "cell_type": "code",
   "execution_count": 8,
   "metadata": {},
   "outputs": [
    {
     "name": "stdout",
     "output_type": "stream",
     "text": [
      "0.9616959136248079\n"
     ]
    }
   ],
   "source": [
    "print(gs.best_score['rmse'])"
   ]
  },
  {
   "cell_type": "markdown",
   "metadata": {},
   "source": [
    "__6) Obtener una predicción para el usuario 321 para la película Titanic.__"
   ]
  },
  {
   "cell_type": "markdown",
   "metadata": {},
   "source": [
    "Cargo el dataset de items, y extraigo el ID de la pelicula Titanic"
   ]
  },
  {
   "cell_type": "code",
   "execution_count": 36,
   "metadata": {},
   "outputs": [],
   "source": [
    "def getMovieID(film, df):\n",
    "    return df.iloc[:,0:2][df.iloc[:,0:2].iloc[:,1].str.contains(film)].iloc[0][0]\n",
    "\n",
    "def getMovieName(IDfilm, df):\n",
    "    return df.iloc[:,0:2][df.iloc[:,0:2].iloc[:,0] == IDfilm].iloc[0][1]"
   ]
  },
  {
   "cell_type": "code",
   "execution_count": 40,
   "metadata": {},
   "outputs": [
    {
     "name": "stdout",
     "output_type": "stream",
     "text": [
      "Tokenization took: 0.73 ms\n",
      "Type conversion took: 5.30 ms\n",
      "Parser memory cleanup took: 0.00 ms\n",
      "ID TITANIC: 313\n"
     ]
    }
   ],
   "source": [
    "df_items = pd.read_csv('./dataset/ml-100k/u.item', sep='|', verbose = 'False', encoding ='latin', header=None)\n",
    "film = 'Titanic'\n",
    "id_titanic = getMovieID(film, df_items)\n",
    "print('ID TITANIC:',id_titanic)"
   ]
  },
  {
   "cell_type": "markdown",
   "metadata": {},
   "source": [
    "Realizo la predicción para el usuario 312"
   ]
  },
  {
   "cell_type": "code",
   "execution_count": 42,
   "metadata": {},
   "outputs": [
    {
     "data": {
      "text/plain": [
       "Prediction(uid=312, iid=313, r_ui=None, est=3.52986, details={'was_impossible': False})"
      ]
     },
     "execution_count": 42,
     "metadata": {},
     "output_type": "execute_result"
    }
   ],
   "source": [
    "gs.predict(312,id_titanic)"
   ]
  },
  {
   "cell_type": "markdown",
   "metadata": {},
   "source": [
    "__7) Desarrollar una función que dado un usuario, obtenga la mejor predicción disponible (de acuerdo a nuestros datos de películas).__"
   ]
  },
  {
   "cell_type": "code",
   "execution_count": 43,
   "metadata": {},
   "outputs": [
    {
     "name": "stdout",
     "output_type": "stream",
     "text": [
      "Tokenization took: 23.44 ms\n",
      "Type conversion took: 28.32 ms\n",
      "Parser memory cleanup took: 0.00 ms\n"
     ]
    },
    {
     "data": {
      "text/plain": [
       "[Prediction(uid=1, iid=61, r_ui=None, est=3.52986, details={'was_impossible': False}),\n",
       " Prediction(uid=1, iid=189, r_ui=None, est=3.52986, details={'was_impossible': False}),\n",
       " Prediction(uid=1, iid=33, r_ui=None, est=3.52986, details={'was_impossible': False}),\n",
       " Prediction(uid=1, iid=160, r_ui=None, est=3.52986, details={'was_impossible': False}),\n",
       " Prediction(uid=1, iid=20, r_ui=None, est=3.52986, details={'was_impossible': False}),\n",
       " Prediction(uid=1, iid=202, r_ui=None, est=3.52986, details={'was_impossible': False}),\n",
       " Prediction(uid=1, iid=171, r_ui=None, est=3.52986, details={'was_impossible': False}),\n",
       " Prediction(uid=1, iid=265, r_ui=None, est=3.52986, details={'was_impossible': False}),\n",
       " Prediction(uid=1, iid=155, r_ui=None, est=3.52986, details={'was_impossible': False}),\n",
       " Prediction(uid=1, iid=117, r_ui=None, est=3.52986, details={'was_impossible': False}),\n",
       " Prediction(uid=1, iid=47, r_ui=None, est=3.52986, details={'was_impossible': False}),\n",
       " Prediction(uid=1, iid=222, r_ui=None, est=3.52986, details={'was_impossible': False}),\n",
       " Prediction(uid=1, iid=253, r_ui=None, est=3.52986, details={'was_impossible': False}),\n",
       " Prediction(uid=1, iid=113, r_ui=None, est=3.52986, details={'was_impossible': False}),\n",
       " Prediction(uid=1, iid=227, r_ui=None, est=3.52986, details={'was_impossible': False}),\n",
       " Prediction(uid=1, iid=17, r_ui=None, est=3.52986, details={'was_impossible': False}),\n",
       " Prediction(uid=1, iid=90, r_ui=None, est=3.52986, details={'was_impossible': False}),\n",
       " Prediction(uid=1, iid=64, r_ui=None, est=3.52986, details={'was_impossible': False}),\n",
       " Prediction(uid=1, iid=92, r_ui=None, est=3.52986, details={'was_impossible': False}),\n",
       " Prediction(uid=1, iid=228, r_ui=None, est=3.52986, details={'was_impossible': False}),\n",
       " Prediction(uid=1, iid=266, r_ui=None, est=3.52986, details={'was_impossible': False}),\n",
       " Prediction(uid=1, iid=121, r_ui=None, est=3.52986, details={'was_impossible': False}),\n",
       " Prediction(uid=1, iid=114, r_ui=None, est=3.52986, details={'was_impossible': False}),\n",
       " Prediction(uid=1, iid=132, r_ui=None, est=3.52986, details={'was_impossible': False}),\n",
       " Prediction(uid=1, iid=74, r_ui=None, est=3.52986, details={'was_impossible': False}),\n",
       " Prediction(uid=1, iid=134, r_ui=None, est=3.52986, details={'was_impossible': False}),\n",
       " Prediction(uid=1, iid=98, r_ui=None, est=3.52986, details={'was_impossible': False}),\n",
       " Prediction(uid=1, iid=186, r_ui=None, est=3.52986, details={'was_impossible': False}),\n",
       " Prediction(uid=1, iid=221, r_ui=None, est=3.52986, details={'was_impossible': False}),\n",
       " Prediction(uid=1, iid=84, r_ui=None, est=3.52986, details={'was_impossible': False}),\n",
       " Prediction(uid=1, iid=31, r_ui=None, est=3.52986, details={'was_impossible': False}),\n",
       " Prediction(uid=1, iid=70, r_ui=None, est=3.52986, details={'was_impossible': False}),\n",
       " Prediction(uid=1, iid=60, r_ui=None, est=3.52986, details={'was_impossible': False}),\n",
       " Prediction(uid=1, iid=177, r_ui=None, est=3.52986, details={'was_impossible': False}),\n",
       " Prediction(uid=1, iid=27, r_ui=None, est=3.52986, details={'was_impossible': False}),\n",
       " Prediction(uid=1, iid=260, r_ui=None, est=3.52986, details={'was_impossible': False}),\n",
       " Prediction(uid=1, iid=145, r_ui=None, est=3.52986, details={'was_impossible': False}),\n",
       " Prediction(uid=1, iid=174, r_ui=None, est=3.52986, details={'was_impossible': False}),\n",
       " Prediction(uid=1, iid=159, r_ui=None, est=3.52986, details={'was_impossible': False}),\n",
       " Prediction(uid=1, iid=82, r_ui=None, est=3.52986, details={'was_impossible': False}),\n",
       " Prediction(uid=1, iid=56, r_ui=None, est=3.52986, details={'was_impossible': False}),\n",
       " Prediction(uid=1, iid=272, r_ui=None, est=3.52986, details={'was_impossible': False}),\n",
       " Prediction(uid=1, iid=80, r_ui=None, est=3.52986, details={'was_impossible': False}),\n",
       " Prediction(uid=1, iid=229, r_ui=None, est=3.52986, details={'was_impossible': False}),\n",
       " Prediction(uid=1, iid=140, r_ui=None, est=3.52986, details={'was_impossible': False}),\n",
       " Prediction(uid=1, iid=225, r_ui=None, est=3.52986, details={'was_impossible': False}),\n",
       " Prediction(uid=1, iid=235, r_ui=None, est=3.52986, details={'was_impossible': False}),\n",
       " Prediction(uid=1, iid=120, r_ui=None, est=3.52986, details={'was_impossible': False}),\n",
       " Prediction(uid=1, iid=125, r_ui=None, est=3.52986, details={'was_impossible': False}),\n",
       " Prediction(uid=1, iid=215, r_ui=None, est=3.52986, details={'was_impossible': False}),\n",
       " Prediction(uid=1, iid=6, r_ui=None, est=3.52986, details={'was_impossible': False}),\n",
       " Prediction(uid=1, iid=104, r_ui=None, est=3.52986, details={'was_impossible': False}),\n",
       " Prediction(uid=1, iid=49, r_ui=None, est=3.52986, details={'was_impossible': False}),\n",
       " Prediction(uid=1, iid=206, r_ui=None, est=3.52986, details={'was_impossible': False}),\n",
       " Prediction(uid=1, iid=76, r_ui=None, est=3.52986, details={'was_impossible': False}),\n",
       " Prediction(uid=1, iid=72, r_ui=None, est=3.52986, details={'was_impossible': False}),\n",
       " Prediction(uid=1, iid=185, r_ui=None, est=3.52986, details={'was_impossible': False}),\n",
       " Prediction(uid=1, iid=96, r_ui=None, est=3.52986, details={'was_impossible': False}),\n",
       " Prediction(uid=1, iid=213, r_ui=None, est=3.52986, details={'was_impossible': False}),\n",
       " Prediction(uid=1, iid=233, r_ui=None, est=3.52986, details={'was_impossible': False}),\n",
       " Prediction(uid=1, iid=258, r_ui=None, est=3.52986, details={'was_impossible': False}),\n",
       " Prediction(uid=1, iid=81, r_ui=None, est=3.52986, details={'was_impossible': False}),\n",
       " Prediction(uid=1, iid=78, r_ui=None, est=3.52986, details={'was_impossible': False}),\n",
       " Prediction(uid=1, iid=212, r_ui=None, est=3.52986, details={'was_impossible': False}),\n",
       " Prediction(uid=1, iid=143, r_ui=None, est=3.52986, details={'was_impossible': False}),\n",
       " Prediction(uid=1, iid=151, r_ui=None, est=3.52986, details={'was_impossible': False}),\n",
       " Prediction(uid=1, iid=51, r_ui=None, est=3.52986, details={'was_impossible': False}),\n",
       " Prediction(uid=1, iid=175, r_ui=None, est=3.52986, details={'was_impossible': False}),\n",
       " Prediction(uid=1, iid=107, r_ui=None, est=3.52986, details={'was_impossible': False}),\n",
       " Prediction(uid=1, iid=218, r_ui=None, est=3.52986, details={'was_impossible': False}),\n",
       " Prediction(uid=1, iid=209, r_ui=None, est=3.52986, details={'was_impossible': False}),\n",
       " Prediction(uid=1, iid=259, r_ui=None, est=3.52986, details={'was_impossible': False}),\n",
       " Prediction(uid=1, iid=108, r_ui=None, est=3.52986, details={'was_impossible': False}),\n",
       " Prediction(uid=1, iid=262, r_ui=None, est=3.52986, details={'was_impossible': False}),\n",
       " Prediction(uid=1, iid=12, r_ui=None, est=3.52986, details={'was_impossible': False}),\n",
       " Prediction(uid=1, iid=14, r_ui=None, est=3.52986, details={'was_impossible': False}),\n",
       " Prediction(uid=1, iid=97, r_ui=None, est=3.52986, details={'was_impossible': False}),\n",
       " Prediction(uid=1, iid=44, r_ui=None, est=3.52986, details={'was_impossible': False}),\n",
       " Prediction(uid=1, iid=53, r_ui=None, est=3.52986, details={'was_impossible': False}),\n",
       " Prediction(uid=1, iid=163, r_ui=None, est=3.52986, details={'was_impossible': False}),\n",
       " Prediction(uid=1, iid=210, r_ui=None, est=3.52986, details={'was_impossible': False}),\n",
       " Prediction(uid=1, iid=184, r_ui=None, est=3.52986, details={'was_impossible': False}),\n",
       " Prediction(uid=1, iid=157, r_ui=None, est=3.52986, details={'was_impossible': False}),\n",
       " Prediction(uid=1, iid=201, r_ui=None, est=3.52986, details={'was_impossible': False}),\n",
       " Prediction(uid=1, iid=150, r_ui=None, est=3.52986, details={'was_impossible': False}),\n",
       " Prediction(uid=1, iid=183, r_ui=None, est=3.52986, details={'was_impossible': False}),\n",
       " Prediction(uid=1, iid=248, r_ui=None, est=3.52986, details={'was_impossible': False}),\n",
       " Prediction(uid=1, iid=208, r_ui=None, est=3.52986, details={'was_impossible': False}),\n",
       " Prediction(uid=1, iid=128, r_ui=None, est=3.52986, details={'was_impossible': False}),\n",
       " Prediction(uid=1, iid=242, r_ui=None, est=3.52986, details={'was_impossible': False}),\n",
       " Prediction(uid=1, iid=148, r_ui=None, est=3.52986, details={'was_impossible': False}),\n",
       " Prediction(uid=1, iid=112, r_ui=None, est=3.52986, details={'was_impossible': False}),\n",
       " Prediction(uid=1, iid=193, r_ui=None, est=3.52986, details={'was_impossible': False}),\n",
       " Prediction(uid=1, iid=264, r_ui=None, est=3.52986, details={'was_impossible': False}),\n",
       " Prediction(uid=1, iid=219, r_ui=None, est=3.52986, details={'was_impossible': False}),\n",
       " Prediction(uid=1, iid=232, r_ui=None, est=3.52986, details={'was_impossible': False}),\n",
       " Prediction(uid=1, iid=236, r_ui=None, est=3.52986, details={'was_impossible': False}),\n",
       " Prediction(uid=1, iid=252, r_ui=None, est=3.52986, details={'was_impossible': False}),\n",
       " Prediction(uid=1, iid=200, r_ui=None, est=3.52986, details={'was_impossible': False}),\n",
       " Prediction(uid=1, iid=180, r_ui=None, est=3.52986, details={'was_impossible': False}),\n",
       " Prediction(uid=1, iid=250, r_ui=None, est=3.52986, details={'was_impossible': False}),\n",
       " Prediction(uid=1, iid=85, r_ui=None, est=3.52986, details={'was_impossible': False}),\n",
       " Prediction(uid=1, iid=91, r_ui=None, est=3.52986, details={'was_impossible': False}),\n",
       " Prediction(uid=1, iid=10, r_ui=None, est=3.52986, details={'was_impossible': False}),\n",
       " Prediction(uid=1, iid=254, r_ui=None, est=3.52986, details={'was_impossible': False}),\n",
       " Prediction(uid=1, iid=129, r_ui=None, est=3.52986, details={'was_impossible': False}),\n",
       " Prediction(uid=1, iid=241, r_ui=None, est=3.52986, details={'was_impossible': False}),\n",
       " Prediction(uid=1, iid=130, r_ui=None, est=3.52986, details={'was_impossible': False}),\n",
       " Prediction(uid=1, iid=255, r_ui=None, est=3.52986, details={'was_impossible': False}),\n",
       " Prediction(uid=1, iid=103, r_ui=None, est=3.52986, details={'was_impossible': False}),\n",
       " Prediction(uid=1, iid=118, r_ui=None, est=3.52986, details={'was_impossible': False}),\n",
       " Prediction(uid=1, iid=54, r_ui=None, est=3.52986, details={'was_impossible': False}),\n",
       " Prediction(uid=1, iid=267, r_ui=None, est=3.52986, details={'was_impossible': False}),\n",
       " Prediction(uid=1, iid=24, r_ui=None, est=3.52986, details={'was_impossible': False}),\n",
       " Prediction(uid=1, iid=86, r_ui=None, est=3.52986, details={'was_impossible': False}),\n",
       " Prediction(uid=1, iid=196, r_ui=None, est=3.52986, details={'was_impossible': False}),\n",
       " Prediction(uid=1, iid=39, r_ui=None, est=3.52986, details={'was_impossible': False}),\n",
       " Prediction(uid=1, iid=164, r_ui=None, est=3.52986, details={'was_impossible': False}),\n",
       " Prediction(uid=1, iid=230, r_ui=None, est=3.52986, details={'was_impossible': False}),\n",
       " Prediction(uid=1, iid=36, r_ui=None, est=3.52986, details={'was_impossible': False}),\n",
       " Prediction(uid=1, iid=23, r_ui=None, est=3.52986, details={'was_impossible': False}),\n",
       " Prediction(uid=1, iid=224, r_ui=None, est=3.52986, details={'was_impossible': False}),\n",
       " Prediction(uid=1, iid=73, r_ui=None, est=3.52986, details={'was_impossible': False}),\n",
       " Prediction(uid=1, iid=67, r_ui=None, est=3.52986, details={'was_impossible': False}),\n",
       " Prediction(uid=1, iid=65, r_ui=None, est=3.52986, details={'was_impossible': False}),\n",
       " Prediction(uid=1, iid=190, r_ui=None, est=3.52986, details={'was_impossible': False}),\n",
       " Prediction(uid=1, iid=100, r_ui=None, est=3.52986, details={'was_impossible': False}),\n",
       " Prediction(uid=1, iid=226, r_ui=None, est=3.52986, details={'was_impossible': False}),\n",
       " Prediction(uid=1, iid=243, r_ui=None, est=3.52986, details={'was_impossible': False}),\n",
       " Prediction(uid=1, iid=154, r_ui=None, est=3.52986, details={'was_impossible': False}),\n",
       " Prediction(uid=1, iid=214, r_ui=None, est=3.52986, details={'was_impossible': False}),\n",
       " Prediction(uid=1, iid=161, r_ui=None, est=3.52986, details={'was_impossible': False}),\n",
       " Prediction(uid=1, iid=62, r_ui=None, est=3.52986, details={'was_impossible': False}),\n",
       " Prediction(uid=1, iid=188, r_ui=None, est=3.52986, details={'was_impossible': False}),\n",
       " Prediction(uid=1, iid=102, r_ui=None, est=3.52986, details={'was_impossible': False}),\n",
       " Prediction(uid=1, iid=69, r_ui=None, est=3.52986, details={'was_impossible': False}),\n",
       " Prediction(uid=1, iid=170, r_ui=None, est=3.52986, details={'was_impossible': False}),\n",
       " Prediction(uid=1, iid=38, r_ui=None, est=3.52986, details={'was_impossible': False}),\n",
       " Prediction(uid=1, iid=9, r_ui=None, est=3.52986, details={'was_impossible': False}),\n",
       " Prediction(uid=1, iid=246, r_ui=None, est=3.52986, details={'was_impossible': False}),\n",
       " Prediction(uid=1, iid=22, r_ui=None, est=3.52986, details={'was_impossible': False}),\n",
       " Prediction(uid=1, iid=21, r_ui=None, est=3.52986, details={'was_impossible': False}),\n",
       " Prediction(uid=1, iid=179, r_ui=None, est=3.52986, details={'was_impossible': False}),\n",
       " Prediction(uid=1, iid=187, r_ui=None, est=3.52986, details={'was_impossible': False}),\n",
       " Prediction(uid=1, iid=135, r_ui=None, est=3.52986, details={'was_impossible': False}),\n",
       " Prediction(uid=1, iid=68, r_ui=None, est=3.52986, details={'was_impossible': False}),\n",
       " Prediction(uid=1, iid=146, r_ui=None, est=3.52986, details={'was_impossible': False}),\n",
       " Prediction(uid=1, iid=176, r_ui=None, est=3.52986, details={'was_impossible': False}),\n",
       " Prediction(uid=1, iid=166, r_ui=None, est=3.52986, details={'was_impossible': False}),\n",
       " Prediction(uid=1, iid=138, r_ui=None, est=3.52986, details={'was_impossible': False}),\n",
       " Prediction(uid=1, iid=247, r_ui=None, est=3.52986, details={'was_impossible': False}),\n",
       " Prediction(uid=1, iid=89, r_ui=None, est=3.52986, details={'was_impossible': False}),\n",
       " Prediction(uid=1, iid=2, r_ui=None, est=3.52986, details={'was_impossible': False}),\n",
       " Prediction(uid=1, iid=30, r_ui=None, est=3.52986, details={'was_impossible': False}),\n",
       " Prediction(uid=1, iid=63, r_ui=None, est=3.52986, details={'was_impossible': False}),\n",
       " Prediction(uid=1, iid=249, r_ui=None, est=3.52986, details={'was_impossible': False}),\n",
       " Prediction(uid=1, iid=269, r_ui=None, est=3.52986, details={'was_impossible': False}),\n",
       " Prediction(uid=1, iid=32, r_ui=None, est=3.52986, details={'was_impossible': False}),\n",
       " Prediction(uid=1, iid=141, r_ui=None, est=3.52986, details={'was_impossible': False}),\n",
       " Prediction(uid=1, iid=211, r_ui=None, est=3.52986, details={'was_impossible': False}),\n",
       " Prediction(uid=1, iid=40, r_ui=None, est=3.52986, details={'was_impossible': False}),\n",
       " Prediction(uid=1, iid=270, r_ui=None, est=3.52986, details={'was_impossible': False}),\n",
       " Prediction(uid=1, iid=133, r_ui=None, est=3.52986, details={'was_impossible': False}),\n",
       " Prediction(uid=1, iid=239, r_ui=None, est=3.52986, details={'was_impossible': False}),\n",
       " Prediction(uid=1, iid=194, r_ui=None, est=3.52986, details={'was_impossible': False}),\n",
       " Prediction(uid=1, iid=256, r_ui=None, est=3.52986, details={'was_impossible': False}),\n",
       " Prediction(uid=1, iid=220, r_ui=None, est=3.52986, details={'was_impossible': False}),\n",
       " Prediction(uid=1, iid=93, r_ui=None, est=3.52986, details={'was_impossible': False}),\n",
       " Prediction(uid=1, iid=8, r_ui=None, est=3.52986, details={'was_impossible': False}),\n",
       " Prediction(uid=1, iid=205, r_ui=None, est=3.52986, details={'was_impossible': False}),\n",
       " Prediction(uid=1, iid=234, r_ui=None, est=3.52986, details={'was_impossible': False}),\n",
       " Prediction(uid=1, iid=105, r_ui=None, est=3.52986, details={'was_impossible': False}),\n",
       " Prediction(uid=1, iid=147, r_ui=None, est=3.52986, details={'was_impossible': False}),\n",
       " Prediction(uid=1, iid=99, r_ui=None, est=3.52986, details={'was_impossible': False}),\n",
       " Prediction(uid=1, iid=1, r_ui=None, est=3.52986, details={'was_impossible': False}),\n",
       " Prediction(uid=1, iid=197, r_ui=None, est=3.52986, details={'was_impossible': False}),\n",
       " Prediction(uid=1, iid=173, r_ui=None, est=3.52986, details={'was_impossible': False}),\n",
       " Prediction(uid=1, iid=75, r_ui=None, est=3.52986, details={'was_impossible': False}),\n",
       " Prediction(uid=1, iid=268, r_ui=None, est=3.52986, details={'was_impossible': False}),\n",
       " Prediction(uid=1, iid=34, r_ui=None, est=3.52986, details={'was_impossible': False}),\n",
       " Prediction(uid=1, iid=144, r_ui=None, est=3.52986, details={'was_impossible': False}),\n",
       " Prediction(uid=1, iid=271, r_ui=None, est=3.52986, details={'was_impossible': False}),\n",
       " Prediction(uid=1, iid=119, r_ui=None, est=3.52986, details={'was_impossible': False}),\n",
       " Prediction(uid=1, iid=26, r_ui=None, est=3.52986, details={'was_impossible': False}),\n",
       " Prediction(uid=1, iid=158, r_ui=None, est=3.52986, details={'was_impossible': False}),\n",
       " Prediction(uid=1, iid=37, r_ui=None, est=3.52986, details={'was_impossible': False}),\n",
       " Prediction(uid=1, iid=181, r_ui=None, est=3.52986, details={'was_impossible': False}),\n",
       " Prediction(uid=1, iid=136, r_ui=None, est=3.52986, details={'was_impossible': False}),\n",
       " Prediction(uid=1, iid=257, r_ui=None, est=3.52986, details={'was_impossible': False}),\n",
       " Prediction(uid=1, iid=237, r_ui=None, est=3.52986, details={'was_impossible': False}),\n",
       " Prediction(uid=1, iid=131, r_ui=None, est=3.52986, details={'was_impossible': False}),\n",
       " Prediction(uid=1, iid=109, r_ui=None, est=3.52986, details={'was_impossible': False}),\n",
       " Prediction(uid=1, iid=182, r_ui=None, est=3.52986, details={'was_impossible': False}),\n",
       " Prediction(uid=1, iid=71, r_ui=None, est=3.52986, details={'was_impossible': False}),\n",
       " Prediction(uid=1, iid=223, r_ui=None, est=3.52986, details={'was_impossible': False}),\n",
       " Prediction(uid=1, iid=46, r_ui=None, est=3.52986, details={'was_impossible': False}),\n",
       " Prediction(uid=1, iid=169, r_ui=None, est=3.52986, details={'was_impossible': False}),\n",
       " Prediction(uid=1, iid=41, r_ui=None, est=3.52986, details={'was_impossible': False}),\n",
       " Prediction(uid=1, iid=162, r_ui=None, est=3.52986, details={'was_impossible': False}),\n",
       " Prediction(uid=1, iid=110, r_ui=None, est=3.52986, details={'was_impossible': False}),\n",
       " Prediction(uid=1, iid=66, r_ui=None, est=3.52986, details={'was_impossible': False}),\n",
       " Prediction(uid=1, iid=77, r_ui=None, est=3.52986, details={'was_impossible': False}),\n",
       " Prediction(uid=1, iid=199, r_ui=None, est=3.52986, details={'was_impossible': False}),\n",
       " Prediction(uid=1, iid=57, r_ui=None, est=3.52986, details={'was_impossible': False}),\n",
       " Prediction(uid=1, iid=50, r_ui=None, est=3.52986, details={'was_impossible': False}),\n",
       " Prediction(uid=1, iid=192, r_ui=None, est=3.52986, details={'was_impossible': False}),\n",
       " Prediction(uid=1, iid=178, r_ui=None, est=3.52986, details={'was_impossible': False}),\n",
       " Prediction(uid=1, iid=5, r_ui=None, est=3.52986, details={'was_impossible': False}),\n",
       " Prediction(uid=1, iid=87, r_ui=None, est=3.52986, details={'was_impossible': False}),\n",
       " Prediction(uid=1, iid=238, r_ui=None, est=3.52986, details={'was_impossible': False}),\n",
       " Prediction(uid=1, iid=156, r_ui=None, est=3.52986, details={'was_impossible': False}),\n",
       " Prediction(uid=1, iid=106, r_ui=None, est=3.52986, details={'was_impossible': False}),\n",
       " Prediction(uid=1, iid=167, r_ui=None, est=3.52986, details={'was_impossible': False}),\n",
       " Prediction(uid=1, iid=115, r_ui=None, est=3.52986, details={'was_impossible': False}),\n",
       " Prediction(uid=1, iid=11, r_ui=None, est=3.52986, details={'was_impossible': False}),\n",
       " Prediction(uid=1, iid=245, r_ui=None, est=3.52986, details={'was_impossible': False}),\n",
       " Prediction(uid=1, iid=35, r_ui=None, est=3.52986, details={'was_impossible': False}),\n",
       " Prediction(uid=1, iid=137, r_ui=None, est=3.52986, details={'was_impossible': False}),\n",
       " Prediction(uid=1, iid=127, r_ui=None, est=3.52986, details={'was_impossible': False}),\n",
       " Prediction(uid=1, iid=16, r_ui=None, est=3.52986, details={'was_impossible': False}),\n",
       " Prediction(uid=1, iid=79, r_ui=None, est=3.52986, details={'was_impossible': False}),\n",
       " Prediction(uid=1, iid=261, r_ui=None, est=3.52986, details={'was_impossible': False}),\n",
       " Prediction(uid=1, iid=45, r_ui=None, est=3.52986, details={'was_impossible': False}),\n",
       " Prediction(uid=1, iid=48, r_ui=None, est=3.52986, details={'was_impossible': False}),\n",
       " Prediction(uid=1, iid=25, r_ui=None, est=3.52986, details={'was_impossible': False}),\n",
       " Prediction(uid=1, iid=251, r_ui=None, est=3.52986, details={'was_impossible': False}),\n",
       " Prediction(uid=1, iid=195, r_ui=None, est=3.52986, details={'was_impossible': False}),\n",
       " Prediction(uid=1, iid=153, r_ui=None, est=3.52986, details={'was_impossible': False}),\n",
       " Prediction(uid=1, iid=101, r_ui=None, est=3.52986, details={'was_impossible': False}),\n",
       " Prediction(uid=1, iid=168, r_ui=None, est=3.52986, details={'was_impossible': False}),\n",
       " Prediction(uid=1, iid=123, r_ui=None, est=3.52986, details={'was_impossible': False}),\n",
       " Prediction(uid=1, iid=191, r_ui=None, est=3.52986, details={'was_impossible': False}),\n",
       " Prediction(uid=1, iid=4, r_ui=None, est=3.52986, details={'was_impossible': False}),\n",
       " Prediction(uid=1, iid=263, r_ui=None, est=3.52986, details={'was_impossible': False}),\n",
       " Prediction(uid=1, iid=203, r_ui=None, est=3.52986, details={'was_impossible': False}),\n",
       " Prediction(uid=1, iid=55, r_ui=None, est=3.52986, details={'was_impossible': False}),\n",
       " Prediction(uid=1, iid=42, r_ui=None, est=3.52986, details={'was_impossible': False}),\n",
       " Prediction(uid=1, iid=139, r_ui=None, est=3.52986, details={'was_impossible': False}),\n",
       " Prediction(uid=1, iid=240, r_ui=None, est=3.52986, details={'was_impossible': False}),\n",
       " Prediction(uid=1, iid=7, r_ui=None, est=3.52986, details={'was_impossible': False}),\n",
       " Prediction(uid=1, iid=149, r_ui=None, est=3.52986, details={'was_impossible': False}),\n",
       " Prediction(uid=1, iid=43, r_ui=None, est=3.52986, details={'was_impossible': False}),\n",
       " Prediction(uid=1, iid=165, r_ui=None, est=3.52986, details={'was_impossible': False}),\n",
       " Prediction(uid=1, iid=116, r_ui=None, est=3.52986, details={'was_impossible': False}),\n",
       " Prediction(uid=1, iid=198, r_ui=None, est=3.52986, details={'was_impossible': False}),\n",
       " Prediction(uid=1, iid=124, r_ui=None, est=3.52986, details={'was_impossible': False}),\n",
       " Prediction(uid=1, iid=95, r_ui=None, est=3.52986, details={'was_impossible': False}),\n",
       " Prediction(uid=1, iid=217, r_ui=None, est=3.52986, details={'was_impossible': False}),\n",
       " Prediction(uid=1, iid=58, r_ui=None, est=3.52986, details={'was_impossible': False}),\n",
       " Prediction(uid=1, iid=142, r_ui=None, est=3.52986, details={'was_impossible': False}),\n",
       " Prediction(uid=1, iid=216, r_ui=None, est=3.52986, details={'was_impossible': False}),\n",
       " Prediction(uid=1, iid=126, r_ui=None, est=3.52986, details={'was_impossible': False}),\n",
       " Prediction(uid=1, iid=83, r_ui=None, est=3.52986, details={'was_impossible': False}),\n",
       " Prediction(uid=1, iid=231, r_ui=None, est=3.52986, details={'was_impossible': False}),\n",
       " Prediction(uid=1, iid=204, r_ui=None, est=3.52986, details={'was_impossible': False}),\n",
       " Prediction(uid=1, iid=3, r_ui=None, est=3.52986, details={'was_impossible': False}),\n",
       " Prediction(uid=1, iid=207, r_ui=None, est=3.52986, details={'was_impossible': False}),\n",
       " Prediction(uid=1, iid=244, r_ui=None, est=3.52986, details={'was_impossible': False}),\n",
       " Prediction(uid=1, iid=19, r_ui=None, est=3.52986, details={'was_impossible': False}),\n",
       " Prediction(uid=1, iid=29, r_ui=None, est=3.52986, details={'was_impossible': False}),\n",
       " Prediction(uid=1, iid=18, r_ui=None, est=3.52986, details={'was_impossible': False}),\n",
       " Prediction(uid=1, iid=59, r_ui=None, est=3.52986, details={'was_impossible': False}),\n",
       " Prediction(uid=1, iid=15, r_ui=None, est=3.52986, details={'was_impossible': False}),\n",
       " Prediction(uid=1, iid=111, r_ui=None, est=3.52986, details={'was_impossible': False}),\n",
       " Prediction(uid=1, iid=52, r_ui=None, est=3.52986, details={'was_impossible': False}),\n",
       " Prediction(uid=1, iid=88, r_ui=None, est=3.52986, details={'was_impossible': False}),\n",
       " Prediction(uid=1, iid=13, r_ui=None, est=3.52986, details={'was_impossible': False}),\n",
       " Prediction(uid=1, iid=28, r_ui=None, est=3.52986, details={'was_impossible': False}),\n",
       " Prediction(uid=1, iid=172, r_ui=None, est=3.52986, details={'was_impossible': False}),\n",
       " Prediction(uid=1, iid=122, r_ui=None, est=3.52986, details={'was_impossible': False}),\n",
       " Prediction(uid=1, iid=152, r_ui=None, est=3.52986, details={'was_impossible': False}),\n",
       " Prediction(uid=1, iid=94, r_ui=None, est=3.52986, details={'was_impossible': False})]"
      ]
     },
     "execution_count": 43,
     "metadata": {},
     "output_type": "execute_result"
    }
   ],
   "source": [
    "usuario = 1\n",
    "predicciones=[]\n",
    "df_data = pd.read_csv('./dataset/ml-100k/u.data', sep='\\t', verbose = 'False', encoding ='latin', header=None)\n",
    "df_u_m = df_data.iloc[:][df_data.iloc[:,0] == usuario]\n",
    "\n",
    "for index, row in df_u_m.iterrows():\n",
    "    predicciones.append(gs.predict(usuario,row[1]))\n",
    "    \n",
    "predicciones"
   ]
  },
  {
   "cell_type": "code",
   "execution_count": null,
   "metadata": {},
   "outputs": [],
   "source": [
    "def best_predict_movie(user):\n",
    "    #Esta funcion obtiene la mejor prediccion posible dado un usuario\n",
    "    \n",
    "\n",
    "plot_confusion_matrix(cm, movie_reviews.target_names,\n",
    "                          normalize=False,\n",
    "                          title='Confusion matrix',\n",
    "                          cmap=plt.cm.Blues)\n",
    "\n",
    "def plot_confusion_matrix(cm, classes,\n",
    "                          normalize=False,\n",
    "                          title='Confusion matrix',\n",
    "                          cmap=plt.cm.Blues):\n",
    "    \"\"\"\n",
    "    This function prints and plots the confusion matrix.\n",
    "    Normalization can be applied by setting `normalize=True`.\n",
    "    \"\"\"\n",
    "    if normalize:\n",
    "        cm = cm.astype('float') / cm.sum(axis=1)[:, np.newaxis]\n",
    "        print(\"Normalized confusion matrix\")\n",
    "    else:\n",
    "        print('Confusion matrix, without normalization')\n",
    "\n",
    "    print(cm)\n",
    "\n",
    "    plt.imshow(cm, interpolation='nearest', cmap=cmap)\n",
    "    plt.title(title)\n",
    "    plt.colorbar()\n",
    "    tick_marks = np.arange(len(classes))\n",
    "    plt.xticks(tick_marks, classes, rotation=45)\n",
    "    plt.yticks(tick_marks, classes)\n",
    "\n",
    "    fmt = '.2f' if normalize else 'd'\n",
    "    thresh = cm.max() / 2.\n",
    "    for i, j in itertools.product(range(cm.shape[0]), range(cm.shape[1])):\n",
    "        plt.text(j, i, format(cm[i, j], fmt),\n",
    "                 horizontalalignment=\"center\",\n",
    "                 color=\"white\" if cm[i, j] > thresh else \"black\")\n",
    "\n",
    "    plt.tight_layout()\n",
    "    plt.ylabel('True label')\n",
    "    plt.xlabel('Predicted label')\n",
    "    plt.show()"
   ]
  }
 ],
 "metadata": {
  "kernelspec": {
   "display_name": "Python 3",
   "language": "python",
   "name": "python3"
  },
  "language_info": {
   "codemirror_mode": {
    "name": "ipython",
    "version": 3
   },
   "file_extension": ".py",
   "mimetype": "text/x-python",
   "name": "python",
   "nbconvert_exporter": "python",
   "pygments_lexer": "ipython3",
   "version": "3.6.8"
  }
 },
 "nbformat": 4,
 "nbformat_minor": 2
}
